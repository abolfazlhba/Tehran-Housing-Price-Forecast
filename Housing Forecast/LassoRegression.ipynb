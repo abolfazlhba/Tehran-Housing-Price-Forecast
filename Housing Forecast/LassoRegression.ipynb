{
 "cells": [
  {
   "cell_type": "code",
   "execution_count": 2,
   "id": "39f1d076",
   "metadata": {},
   "outputs": [],
   "source": [
    "import matplotlib.pyplot as plt\n",
    "import pandas as pd\n",
    "import pylab as pl\n",
    "import numpy as np\n",
    "import seaborn as sns\n",
    "from sklearn.ensemble import IsolationForest\n",
    "from sklearn.preprocessing import PolynomialFeatures\n",
    "from sklearn.metrics import r2_score\n",
    "import joblib\n",
    "from sklearn.model_selection import GridSearchCV\n",
    "from sklearn.pipeline import Pipeline"
   ]
  },
  {
   "cell_type": "code",
   "execution_count": 3,
   "id": "740ba501",
   "metadata": {},
   "outputs": [],
   "source": [
    "df=pd.read_csv('../Data/HouseImformation.csv')"
   ]
  },
  {
   "cell_type": "code",
   "execution_count": 4,
   "id": "5e6590db",
   "metadata": {},
   "outputs": [],
   "source": [
    "df['Area'] = df['Area'].str.replace(',', '').astype(float)\n",
    "\n",
    "df=df.dropna()\n",
    "\n",
    "isoOuter=IsolationForest(contamination=0.01)\n",
    "df['OuterData']=isoOuter.fit_predict(df[[\"Area\", \"Price\"]])\n",
    "\n",
    "df=df.drop(index=df[df['OuterData'] == -1].index)\n",
    "\n",
    "MeanPriceAddressOuter=df.groupby(\"Address\")[\"Price\"].mean()\n",
    "df[\"MeanPriceA\"] = df[\"Address\"].map(MeanPriceAddressOuter)"
   ]
  },
  {
   "cell_type": "code",
   "execution_count": 5,
   "id": "ced15eef",
   "metadata": {},
   "outputs": [],
   "source": [
    "from sklearn.preprocessing import StandardScaler\n",
    "\n",
    "scaler=StandardScaler()\n",
    "x_Data = scaler.fit_transform(df[['Area','Room','Parking','Warehouse','Elevator','MeanPriceA']])\n",
    "y_Data=df[['Price']].values\n"
   ]
  },
  {
   "cell_type": "code",
   "execution_count": 6,
   "id": "2086699c",
   "metadata": {},
   "outputs": [
    {
     "name": "stdout",
     "output_type": "stream",
     "text": [
      "Mean:  0.744776941837297\n",
      "Standard deviation:  0.04370007705956791\n"
     ]
    }
   ],
   "source": [
    "from sklearn.linear_model import Lasso\n",
    "from sklearn.model_selection import RepeatedKFold ,cross_val_score\n",
    "\n",
    "model=Lasso(alpha=1.0)\n",
    "\n",
    "cvM=RepeatedKFold(n_splits=10,n_repeats=3,random_state=1)\n",
    "\n",
    "score=cross_val_score(model,x_Data,y_Data,cv=cvM)\n",
    "\n",
    "print(\"Mean: \",np.mean(score))\n",
    "print(\"Standard deviation: \", np.std(score))"
   ]
  },
  {
   "cell_type": "code",
   "execution_count": 7,
   "id": "36d9b17a",
   "metadata": {},
   "outputs": [],
   "source": [
    "mask= np.random.rand(len(df)) < 0.8\n",
    "\n",
    "train=df[mask]\n",
    "test=df[~mask]\n",
    "\n",
    "x_train=np.asanyarray(train[['Area','Room','Parking','Warehouse','Elevator','MeanPriceA']])\n",
    "y_train=np.asanyarray(train[['Price']])\n",
    "\n",
    "x_test=np.asanyarray(test[['Area','Room','Parking','Warehouse','Elevator','MeanPriceA']])\n",
    "y_test=np.asanyarray(test[['Price']])"
   ]
  },
  {
   "cell_type": "code",
   "execution_count": 8,
   "id": "651aab62",
   "metadata": {},
   "outputs": [
    {
     "name": "stdout",
     "output_type": "stream",
     "text": [
      "Test R2 Score: 0.73\n"
     ]
    }
   ],
   "source": [
    "model.fit(x_train,y_train)\n",
    "y_pred=model.predict(x_test)\n",
    "\n",
    "from sklearn.metrics import r2_score\n",
    "print(f\"Test R2 Score: {r2_score(y_test, y_pred):.2f}\")"
   ]
  },
  {
   "cell_type": "code",
   "execution_count": 8,
   "id": "b628d975",
   "metadata": {},
   "outputs": [
    {
     "data": {
      "text/plain": [
       "['../Models/LassoRegression.pkl']"
      ]
     },
     "execution_count": 8,
     "metadata": {},
     "output_type": "execute_result"
    }
   ],
   "source": [
    "joblib.dump(model, '../Models/LassoRegression.pkl')"
   ]
  },
  {
   "cell_type": "code",
   "execution_count": 9,
   "id": "44779802",
   "metadata": {},
   "outputs": [
    {
     "name": "stderr",
     "output_type": "stream",
     "text": [
      "c:\\Users\\Abolfazl\\anaconda3\\Lib\\site-packages\\sklearn\\linear_model\\_coordinate_descent.py:697: ConvergenceWarning: Objective did not converge. You might want to increase the number of iterations, check the scale of the features or consider increasing regularisation. Duality gap: 2.792e+21, tolerance: 1.209e+19\n",
      "  model = cd_fast.enet_coordinate_descent(\n",
      "c:\\Users\\Abolfazl\\anaconda3\\Lib\\site-packages\\sklearn\\linear_model\\_coordinate_descent.py:697: ConvergenceWarning: Objective did not converge. You might want to increase the number of iterations, check the scale of the features or consider increasing regularisation. Duality gap: 2.251e+21, tolerance: 1.187e+19\n",
      "  model = cd_fast.enet_coordinate_descent(\n",
      "c:\\Users\\Abolfazl\\anaconda3\\Lib\\site-packages\\sklearn\\linear_model\\_coordinate_descent.py:697: ConvergenceWarning: Objective did not converge. You might want to increase the number of iterations, check the scale of the features or consider increasing regularisation. Duality gap: 2.324e+21, tolerance: 1.175e+19\n",
      "  model = cd_fast.enet_coordinate_descent(\n",
      "c:\\Users\\Abolfazl\\anaconda3\\Lib\\site-packages\\sklearn\\linear_model\\_coordinate_descent.py:697: ConvergenceWarning: Objective did not converge. You might want to increase the number of iterations, check the scale of the features or consider increasing regularisation. Duality gap: 2.653e+21, tolerance: 1.231e+19\n",
      "  model = cd_fast.enet_coordinate_descent(\n",
      "c:\\Users\\Abolfazl\\anaconda3\\Lib\\site-packages\\sklearn\\linear_model\\_coordinate_descent.py:697: ConvergenceWarning: Objective did not converge. You might want to increase the number of iterations, check the scale of the features or consider increasing regularisation. Duality gap: 2.916e+21, tolerance: 1.215e+19\n",
      "  model = cd_fast.enet_coordinate_descent(\n",
      "c:\\Users\\Abolfazl\\anaconda3\\Lib\\site-packages\\sklearn\\linear_model\\_coordinate_descent.py:697: ConvergenceWarning: Objective did not converge. You might want to increase the number of iterations, check the scale of the features or consider increasing regularisation. Duality gap: 2.696e+21, tolerance: 1.151e+19\n",
      "  model = cd_fast.enet_coordinate_descent(\n",
      "c:\\Users\\Abolfazl\\anaconda3\\Lib\\site-packages\\sklearn\\linear_model\\_coordinate_descent.py:697: ConvergenceWarning: Objective did not converge. You might want to increase the number of iterations, check the scale of the features or consider increasing regularisation. Duality gap: 2.815e+21, tolerance: 1.208e+19\n",
      "  model = cd_fast.enet_coordinate_descent(\n",
      "c:\\Users\\Abolfazl\\anaconda3\\Lib\\site-packages\\sklearn\\linear_model\\_coordinate_descent.py:697: ConvergenceWarning: Objective did not converge. You might want to increase the number of iterations, check the scale of the features or consider increasing regularisation. Duality gap: 2.249e+21, tolerance: 1.178e+19\n",
      "  model = cd_fast.enet_coordinate_descent(\n",
      "c:\\Users\\Abolfazl\\anaconda3\\Lib\\site-packages\\sklearn\\linear_model\\_coordinate_descent.py:697: ConvergenceWarning: Objective did not converge. You might want to increase the number of iterations, check the scale of the features or consider increasing regularisation. Duality gap: 2.805e+21, tolerance: 1.211e+19\n",
      "  model = cd_fast.enet_coordinate_descent(\n",
      "c:\\Users\\Abolfazl\\anaconda3\\Lib\\site-packages\\sklearn\\linear_model\\_coordinate_descent.py:697: ConvergenceWarning: Objective did not converge. You might want to increase the number of iterations, check the scale of the features or consider increasing regularisation. Duality gap: 2.392e+21, tolerance: 1.184e+19\n",
      "  model = cd_fast.enet_coordinate_descent(\n",
      "c:\\Users\\Abolfazl\\anaconda3\\Lib\\site-packages\\sklearn\\linear_model\\_coordinate_descent.py:697: ConvergenceWarning: Objective did not converge. You might want to increase the number of iterations, check the scale of the features or consider increasing regularisation. Duality gap: 2.826e+21, tolerance: 1.238e+19\n",
      "  model = cd_fast.enet_coordinate_descent(\n",
      "c:\\Users\\Abolfazl\\anaconda3\\Lib\\site-packages\\sklearn\\linear_model\\_coordinate_descent.py:697: ConvergenceWarning: Objective did not converge. You might want to increase the number of iterations, check the scale of the features or consider increasing regularisation. Duality gap: 2.941e+21, tolerance: 1.216e+19\n",
      "  model = cd_fast.enet_coordinate_descent(\n",
      "c:\\Users\\Abolfazl\\anaconda3\\Lib\\site-packages\\sklearn\\linear_model\\_coordinate_descent.py:697: ConvergenceWarning: Objective did not converge. You might want to increase the number of iterations, check the scale of the features or consider increasing regularisation. Duality gap: 2.608e+21, tolerance: 1.188e+19\n",
      "  model = cd_fast.enet_coordinate_descent(\n",
      "c:\\Users\\Abolfazl\\anaconda3\\Lib\\site-packages\\sklearn\\linear_model\\_coordinate_descent.py:697: ConvergenceWarning: Objective did not converge. You might want to increase the number of iterations, check the scale of the features or consider increasing regularisation. Duality gap: 2.867e+21, tolerance: 1.192e+19\n",
      "  model = cd_fast.enet_coordinate_descent(\n",
      "c:\\Users\\Abolfazl\\anaconda3\\Lib\\site-packages\\sklearn\\linear_model\\_coordinate_descent.py:697: ConvergenceWarning: Objective did not converge. You might want to increase the number of iterations, check the scale of the features or consider increasing regularisation. Duality gap: 2.264e+21, tolerance: 1.163e+19\n",
      "  model = cd_fast.enet_coordinate_descent(\n",
      "c:\\Users\\Abolfazl\\anaconda3\\Lib\\site-packages\\sklearn\\linear_model\\_coordinate_descent.py:697: ConvergenceWarning: Objective did not converge. You might want to increase the number of iterations, check the scale of the features or consider increasing regularisation. Duality gap: 2.331e+21, tolerance: 1.190e+19\n",
      "  model = cd_fast.enet_coordinate_descent(\n",
      "c:\\Users\\Abolfazl\\anaconda3\\Lib\\site-packages\\sklearn\\linear_model\\_coordinate_descent.py:697: ConvergenceWarning: Objective did not converge. You might want to increase the number of iterations, check the scale of the features or consider increasing regularisation. Duality gap: 2.876e+21, tolerance: 1.213e+19\n",
      "  model = cd_fast.enet_coordinate_descent(\n",
      "c:\\Users\\Abolfazl\\anaconda3\\Lib\\site-packages\\sklearn\\linear_model\\_coordinate_descent.py:697: ConvergenceWarning: Objective did not converge. You might want to increase the number of iterations, check the scale of the features or consider increasing regularisation. Duality gap: 2.318e+21, tolerance: 1.219e+19\n",
      "  model = cd_fast.enet_coordinate_descent(\n",
      "c:\\Users\\Abolfazl\\anaconda3\\Lib\\site-packages\\sklearn\\linear_model\\_coordinate_descent.py:697: ConvergenceWarning: Objective did not converge. You might want to increase the number of iterations, check the scale of the features or consider increasing regularisation. Duality gap: 2.451e+21, tolerance: 1.181e+19\n",
      "  model = cd_fast.enet_coordinate_descent(\n",
      "c:\\Users\\Abolfazl\\anaconda3\\Lib\\site-packages\\sklearn\\linear_model\\_coordinate_descent.py:697: ConvergenceWarning: Objective did not converge. You might want to increase the number of iterations, check the scale of the features or consider increasing regularisation. Duality gap: 2.694e+21, tolerance: 1.149e+19\n",
      "  model = cd_fast.enet_coordinate_descent(\n",
      "c:\\Users\\Abolfazl\\anaconda3\\Lib\\site-packages\\sklearn\\linear_model\\_coordinate_descent.py:697: ConvergenceWarning: Objective did not converge. You might want to increase the number of iterations, check the scale of the features or consider increasing regularisation. Duality gap: 2.687e+21, tolerance: 1.179e+19\n",
      "  model = cd_fast.enet_coordinate_descent(\n",
      "c:\\Users\\Abolfazl\\anaconda3\\Lib\\site-packages\\sklearn\\linear_model\\_coordinate_descent.py:697: ConvergenceWarning: Objective did not converge. You might want to increase the number of iterations, check the scale of the features or consider increasing regularisation. Duality gap: 2.297e+21, tolerance: 1.231e+19\n",
      "  model = cd_fast.enet_coordinate_descent(\n",
      "c:\\Users\\Abolfazl\\anaconda3\\Lib\\site-packages\\sklearn\\linear_model\\_coordinate_descent.py:697: ConvergenceWarning: Objective did not converge. You might want to increase the number of iterations, check the scale of the features or consider increasing regularisation. Duality gap: 3.032e+21, tolerance: 1.217e+19\n",
      "  model = cd_fast.enet_coordinate_descent(\n",
      "c:\\Users\\Abolfazl\\anaconda3\\Lib\\site-packages\\sklearn\\linear_model\\_coordinate_descent.py:697: ConvergenceWarning: Objective did not converge. You might want to increase the number of iterations, check the scale of the features or consider increasing regularisation. Duality gap: 2.875e+21, tolerance: 1.219e+19\n",
      "  model = cd_fast.enet_coordinate_descent(\n",
      "c:\\Users\\Abolfazl\\anaconda3\\Lib\\site-packages\\sklearn\\linear_model\\_coordinate_descent.py:697: ConvergenceWarning: Objective did not converge. You might want to increase the number of iterations, check the scale of the features or consider increasing regularisation. Duality gap: 2.812e+21, tolerance: 1.165e+19\n",
      "  model = cd_fast.enet_coordinate_descent(\n",
      "c:\\Users\\Abolfazl\\anaconda3\\Lib\\site-packages\\sklearn\\linear_model\\_coordinate_descent.py:697: ConvergenceWarning: Objective did not converge. You might want to increase the number of iterations, check the scale of the features or consider increasing regularisation. Duality gap: 2.690e+21, tolerance: 1.195e+19\n",
      "  model = cd_fast.enet_coordinate_descent(\n",
      "c:\\Users\\Abolfazl\\anaconda3\\Lib\\site-packages\\sklearn\\linear_model\\_coordinate_descent.py:697: ConvergenceWarning: Objective did not converge. You might want to increase the number of iterations, check the scale of the features or consider increasing regularisation. Duality gap: 2.872e+21, tolerance: 1.210e+19\n",
      "  model = cd_fast.enet_coordinate_descent(\n",
      "c:\\Users\\Abolfazl\\anaconda3\\Lib\\site-packages\\sklearn\\linear_model\\_coordinate_descent.py:697: ConvergenceWarning: Objective did not converge. You might want to increase the number of iterations, check the scale of the features or consider increasing regularisation. Duality gap: 2.412e+21, tolerance: 1.184e+19\n",
      "  model = cd_fast.enet_coordinate_descent(\n",
      "c:\\Users\\Abolfazl\\anaconda3\\Lib\\site-packages\\sklearn\\linear_model\\_coordinate_descent.py:697: ConvergenceWarning: Objective did not converge. You might want to increase the number of iterations, check the scale of the features or consider increasing regularisation. Duality gap: 2.354e+21, tolerance: 1.190e+19\n",
      "  model = cd_fast.enet_coordinate_descent(\n"
     ]
    },
    {
     "name": "stdout",
     "output_type": "stream",
     "text": [
      "Mean:  0.744776941837297\n",
      "Standard deviation:  0.04370007705956791\n"
     ]
    },
    {
     "name": "stderr",
     "output_type": "stream",
     "text": [
      "c:\\Users\\Abolfazl\\anaconda3\\Lib\\site-packages\\sklearn\\linear_model\\_coordinate_descent.py:697: ConvergenceWarning: Objective did not converge. You might want to increase the number of iterations, check the scale of the features or consider increasing regularisation. Duality gap: 2.614e+21, tolerance: 1.159e+19\n",
      "  model = cd_fast.enet_coordinate_descent(\n"
     ]
    }
   ],
   "source": [
    "pipeline=Pipeline([\n",
    "    ('scale', StandardScaler()),\n",
    "    ('poly',PolynomialFeatures(degree=2)),\n",
    "    ('lasso',Lasso(alpha=100.0,max_iter=10000))\n",
    "])\n",
    "\n",
    "cvMP=RepeatedKFold(n_splits=10,n_repeats=3,random_state=1)\n",
    "scoreP=cross_val_score(pipeline,x_Data,y_Data,cv=cvMP)\n",
    "\n",
    "print(\"Mean: \",np.mean(score))\n",
    "print(\"Standard deviation: \", np.std(score))"
   ]
  },
  {
   "cell_type": "code",
   "execution_count": 10,
   "id": "d2799032",
   "metadata": {},
   "outputs": [
    {
     "name": "stdout",
     "output_type": "stream",
     "text": [
      "R2-score: 0.87\n"
     ]
    },
    {
     "name": "stderr",
     "output_type": "stream",
     "text": [
      "c:\\Users\\Abolfazl\\anaconda3\\Lib\\site-packages\\sklearn\\linear_model\\_coordinate_descent.py:697: ConvergenceWarning: Objective did not converge. You might want to increase the number of iterations, check the scale of the features or consider increasing regularisation. Duality gap: 2.587e+21, tolerance: 1.076e+19\n",
      "  model = cd_fast.enet_coordinate_descent(\n"
     ]
    }
   ],
   "source": [
    "pipeline.fit(x_train,y_train)\n",
    "y_predict=pipeline.predict(x_test)\n",
    "\n",
    "print(\"R2-score: %.2f\" % r2_score(y_test , y_predict))"
   ]
  },
  {
   "cell_type": "code",
   "execution_count": 11,
   "id": "15cfbf23",
   "metadata": {},
   "outputs": [
    {
     "data": {
      "text/plain": [
       "['../Models/LassoRegressionWithPolynomialFeaturesModel.pkl']"
      ]
     },
     "execution_count": 11,
     "metadata": {},
     "output_type": "execute_result"
    }
   ],
   "source": [
    "joblib.dump(pipeline, '../Models/LassoRegressionWithPolynomialFeaturesModel.pkl')"
   ]
  },
  {
   "cell_type": "code",
   "execution_count": null,
   "id": "485d741d",
   "metadata": {},
   "outputs": [],
   "source": []
  }
 ],
 "metadata": {
  "kernelspec": {
   "display_name": "base",
   "language": "python",
   "name": "python3"
  },
  "language_info": {
   "codemirror_mode": {
    "name": "ipython",
    "version": 3
   },
   "file_extension": ".py",
   "mimetype": "text/x-python",
   "name": "python",
   "nbconvert_exporter": "python",
   "pygments_lexer": "ipython3",
   "version": "3.12.7"
  }
 },
 "nbformat": 4,
 "nbformat_minor": 5
}
