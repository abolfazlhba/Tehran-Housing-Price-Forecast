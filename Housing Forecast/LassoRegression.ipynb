{
 "cells": [
  {
   "cell_type": "code",
   "execution_count": 1,
   "id": "39f1d076",
   "metadata": {},
   "outputs": [],
   "source": [
    "import matplotlib.pyplot as plt\n",
    "import pandas as pd\n",
    "import pylab as pl\n",
    "import numpy as np\n",
    "import seaborn as sns\n",
    "from sklearn.ensemble import IsolationForest\n",
    "from sklearn.preprocessing import PolynomialFeatures\n",
    "from sklearn.metrics import r2_score\n",
    "import joblib\n",
    "from sklearn.model_selection import GridSearchCV\n",
    "from sklearn.pipeline import Pipeline"
   ]
  },
  {
   "cell_type": "code",
   "execution_count": 2,
   "id": "740ba501",
   "metadata": {},
   "outputs": [],
   "source": [
    "df=pd.read_csv('../Data/HouseImformation.csv')"
   ]
  },
  {
   "cell_type": "code",
   "execution_count": 3,
   "id": "5e6590db",
   "metadata": {},
   "outputs": [],
   "source": [
    "df['Area'] = df['Area'].str.replace(',', '').astype(float)\n",
    "\n",
    "df=df.dropna()\n",
    "\n",
    "isoOuter=IsolationForest(contamination=0.01)\n",
    "df['OuterData']=isoOuter.fit_predict(df[[\"Area\", \"Price\"]])\n",
    "\n",
    "df=df.drop(index=df[df['OuterData'] == -1].index)\n",
    "\n",
    "MeanPriceAddressOuter=df.groupby(\"Address\")[\"Price\"].mean()\n",
    "df[\"MeanPriceA\"] = df[\"Address\"].map(MeanPriceAddressOuter)"
   ]
  },
  {
   "cell_type": "code",
   "execution_count": 10,
   "id": "ced15eef",
   "metadata": {},
   "outputs": [],
   "source": [
    "from sklearn.preprocessing import StandardScaler\n",
    "\n",
    "scaler=StandardScaler()\n",
    "x_Data = scaler.fit_transform(df[['Area','Room','Parking','Warehouse','Elevator','MeanPriceA']])\n",
    "y_Data=df[['Price']].values\n"
   ]
  },
  {
   "cell_type": "code",
   "execution_count": null,
   "id": "2086699c",
   "metadata": {},
   "outputs": [
    {
     "name": "stdout",
     "output_type": "stream",
     "text": [
      "Mean:  0.7468603862508736\n",
      "Standard deviation:  0.038843599375816606\n"
     ]
    }
   ],
   "source": [
    "from sklearn.linear_model import Lasso\n",
    "from sklearn.model_selection import RepeatedKFold ,cross_val_score,train_test_split\n",
    "\n",
    "model=Lasso(alpha=1.0)\n",
    "\n",
    "cvM=RepeatedKFold(n_splits=10,n_repeats=3,random_state=1)\n",
    "\n",
    "score=cross_val_score(model,x_Data,y_Data,cv=cvM)\n",
    "\n",
    "print(\"Mean: \",np.mean(score))\n",
    "print(\"Standard deviation: \", np.std(score))"
   ]
  },
  {
   "cell_type": "code",
   "execution_count": null,
   "id": "bf2175d4",
   "metadata": {},
   "outputs": [],
   "source": [
    "x_train,x_test,y_train,y_test="
   ]
  }
 ],
 "metadata": {
  "kernelspec": {
   "display_name": "base",
   "language": "python",
   "name": "python3"
  },
  "language_info": {
   "codemirror_mode": {
    "name": "ipython",
    "version": 3
   },
   "file_extension": ".py",
   "mimetype": "text/x-python",
   "name": "python",
   "nbconvert_exporter": "python",
   "pygments_lexer": "ipython3",
   "version": "3.12.7"
  }
 },
 "nbformat": 4,
 "nbformat_minor": 5
}
