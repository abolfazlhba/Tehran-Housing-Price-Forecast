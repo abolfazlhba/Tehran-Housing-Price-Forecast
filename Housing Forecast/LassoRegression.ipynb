{
 "cells": [
  {
   "cell_type": "code",
   "execution_count": 1,
   "id": "39f1d076",
   "metadata": {},
   "outputs": [],
   "source": [
    "import matplotlib.pyplot as plt\n",
    "import pandas as pd\n",
    "import pylab as pl\n",
    "import numpy as np\n",
    "import seaborn as sns\n",
    "from sklearn.ensemble import IsolationForest\n",
    "from sklearn.preprocessing import PolynomialFeatures\n",
    "from sklearn.metrics import r2_score\n",
    "import joblib\n",
    "from sklearn.model_selection import GridSearchCV\n",
    "from sklearn.pipeline import Pipeline"
   ]
  },
  {
   "cell_type": "code",
   "execution_count": 2,
   "id": "740ba501",
   "metadata": {},
   "outputs": [],
   "source": [
    "df=pd.read_csv('../Data/HouseImformation.csv')"
   ]
  },
  {
   "cell_type": "code",
   "execution_count": 3,
   "id": "5e6590db",
   "metadata": {},
   "outputs": [],
   "source": [
    "df['Area'] = df['Area'].str.replace(',', '').astype(float)\n",
    "\n",
    "df=df.dropna()\n",
    "\n",
    "isoOuter=IsolationForest(contamination=0.01)\n",
    "df['OuterData']=isoOuter.fit_predict(df[[\"Area\", \"Price\"]])\n",
    "\n",
    "df=df.drop(index=df[df['OuterData'] == -1].index)\n",
    "\n",
    "MeanPriceAddressOuter=df.groupby(\"Address\")[\"Price\"].mean()\n",
    "df[\"MeanPriceA\"] = df[\"Address\"].map(MeanPriceAddressOuter)"
   ]
  },
  {
   "cell_type": "code",
   "execution_count": 10,
   "id": "ced15eef",
   "metadata": {},
   "outputs": [],
   "source": [
    "from sklearn.preprocessing import StandardScaler\n",
    "\n",
    "scaler=StandardScaler()\n",
    "x_Data = scaler.fit_transform(df[['Area','Room','Parking','Warehouse','Elevator','MeanPriceA']])\n",
    "y_Data=df[['Price']].values\n"
   ]
  },
  {
   "cell_type": "code",
   "execution_count": null,
   "id": "2086699c",
   "metadata": {},
   "outputs": [
    {
     "name": "stdout",
     "output_type": "stream",
     "text": [
      "Mean:  0.7468603862508736\n",
      "Standard deviation:  0.038843599375816606\n"
     ]
    }
   ],
   "source": [
    "from sklearn.linear_model import Lasso\n",
    "from sklearn.model_selection import RepeatedKFold ,cross_val_score\n",
    "\n",
    "model=Lasso(alpha=1.0)\n",
    "\n",
    "cvM=RepeatedKFold(n_splits=10,n_repeats=3,random_state=1)\n",
    "\n",
    "score=cross_val_score(model,x_Data,y_Data,cv=cvM)\n",
    "\n",
    "print(\"Mean: \",np.mean(score))\n",
    "print(\"Standard deviation: \", np.std(score))"
   ]
  },
  {
   "cell_type": "code",
   "execution_count": 26,
   "id": "36d9b17a",
   "metadata": {},
   "outputs": [],
   "source": [
    "mask= np.random.rand(len(df)) < 0.8\n",
    "\n",
    "train=df[mask]\n",
    "test=df[~mask]\n",
    "\n",
    "x_train=np.asanyarray(train[['Area','Room','Parking','Warehouse','Elevator','MeanPriceA']])\n",
    "y_train=np.asanyarray(train[['Price']])\n",
    "\n",
    "x_test=np.asanyarray(test[['Area','Room','Parking','Warehouse','Elevator','MeanPriceA']])\n",
    "y_test=np.asanyarray(test[['Price']])\n",
    "\n",
    "\n",
    "scaler=StandardScaler()\n",
    "\n",
    "x_train_scaler=scaler.fit_transform(x_train)\n",
    "\n",
    "x_test_scaler=scaler.fit_transform(x_test)\n"
   ]
  },
  {
   "cell_type": "code",
   "execution_count": 27,
   "id": "651aab62",
   "metadata": {},
   "outputs": [
    {
     "name": "stdout",
     "output_type": "stream",
     "text": [
      "Test R2 Score: 0.75\n"
     ]
    }
   ],
   "source": [
    "model.fit(x_train,y_train)\n",
    "y_pred=model.predict(x_test)\n",
    "\n",
    "from sklearn.metrics import r2_score\n",
    "print(f\"Test R2 Score: {r2_score(y_test, y_pred):.2f}\")"
   ]
  },
  {
   "cell_type": "code",
   "execution_count": 18,
   "id": "b628d975",
   "metadata": {},
   "outputs": [
    {
     "data": {
      "text/plain": [
       "['../Models/LassoRegression.pkl']"
      ]
     },
     "execution_count": 18,
     "metadata": {},
     "output_type": "execute_result"
    }
   ],
   "source": [
    "joblib.dump(model, '../Models/LassoRegression.pkl')"
   ]
  },
  {
   "cell_type": "code",
   "execution_count": 32,
   "id": "44779802",
   "metadata": {},
   "outputs": [
    {
     "name": "stderr",
     "output_type": "stream",
     "text": [
      "c:\\Users\\Abolfazl\\anaconda3\\Lib\\site-packages\\sklearn\\linear_model\\_coordinate_descent.py:697: ConvergenceWarning: Objective did not converge. You might want to increase the number of iterations, check the scale of the features or consider increasing regularisation. Duality gap: 2.571e+21, tolerance: 1.283e+19\n",
      "  model = cd_fast.enet_coordinate_descent(\n",
      "c:\\Users\\Abolfazl\\anaconda3\\Lib\\site-packages\\sklearn\\linear_model\\_coordinate_descent.py:697: ConvergenceWarning: Objective did not converge. You might want to increase the number of iterations, check the scale of the features or consider increasing regularisation. Duality gap: 2.679e+21, tolerance: 1.290e+19\n",
      "  model = cd_fast.enet_coordinate_descent(\n",
      "c:\\Users\\Abolfazl\\anaconda3\\Lib\\site-packages\\sklearn\\linear_model\\_coordinate_descent.py:697: ConvergenceWarning: Objective did not converge. You might want to increase the number of iterations, check the scale of the features or consider increasing regularisation. Duality gap: 2.558e+21, tolerance: 1.232e+19\n",
      "  model = cd_fast.enet_coordinate_descent(\n",
      "c:\\Users\\Abolfazl\\anaconda3\\Lib\\site-packages\\sklearn\\linear_model\\_coordinate_descent.py:697: ConvergenceWarning: Objective did not converge. You might want to increase the number of iterations, check the scale of the features or consider increasing regularisation. Duality gap: 2.569e+21, tolerance: 1.199e+19\n",
      "  model = cd_fast.enet_coordinate_descent(\n",
      "c:\\Users\\Abolfazl\\anaconda3\\Lib\\site-packages\\sklearn\\linear_model\\_coordinate_descent.py:697: ConvergenceWarning: Objective did not converge. You might want to increase the number of iterations, check the scale of the features or consider increasing regularisation. Duality gap: 2.704e+21, tolerance: 1.298e+19\n",
      "  model = cd_fast.enet_coordinate_descent(\n",
      "c:\\Users\\Abolfazl\\anaconda3\\Lib\\site-packages\\sklearn\\linear_model\\_coordinate_descent.py:697: ConvergenceWarning: Objective did not converge. You might want to increase the number of iterations, check the scale of the features or consider increasing regularisation. Duality gap: 2.516e+21, tolerance: 1.234e+19\n",
      "  model = cd_fast.enet_coordinate_descent(\n",
      "c:\\Users\\Abolfazl\\anaconda3\\Lib\\site-packages\\sklearn\\linear_model\\_coordinate_descent.py:697: ConvergenceWarning: Objective did not converge. You might want to increase the number of iterations, check the scale of the features or consider increasing regularisation. Duality gap: 2.666e+21, tolerance: 1.270e+19\n",
      "  model = cd_fast.enet_coordinate_descent(\n",
      "c:\\Users\\Abolfazl\\anaconda3\\Lib\\site-packages\\sklearn\\linear_model\\_coordinate_descent.py:697: ConvergenceWarning: Objective did not converge. You might want to increase the number of iterations, check the scale of the features or consider increasing regularisation. Duality gap: 2.425e+21, tolerance: 1.261e+19\n",
      "  model = cd_fast.enet_coordinate_descent(\n",
      "c:\\Users\\Abolfazl\\anaconda3\\Lib\\site-packages\\sklearn\\linear_model\\_coordinate_descent.py:697: ConvergenceWarning: Objective did not converge. You might want to increase the number of iterations, check the scale of the features or consider increasing regularisation. Duality gap: 2.603e+21, tolerance: 1.293e+19\n",
      "  model = cd_fast.enet_coordinate_descent(\n",
      "c:\\Users\\Abolfazl\\anaconda3\\Lib\\site-packages\\sklearn\\linear_model\\_coordinate_descent.py:697: ConvergenceWarning: Objective did not converge. You might want to increase the number of iterations, check the scale of the features or consider increasing regularisation. Duality gap: 2.558e+21, tolerance: 1.277e+19\n",
      "  model = cd_fast.enet_coordinate_descent(\n",
      "c:\\Users\\Abolfazl\\anaconda3\\Lib\\site-packages\\sklearn\\linear_model\\_coordinate_descent.py:697: ConvergenceWarning: Objective did not converge. You might want to increase the number of iterations, check the scale of the features or consider increasing regularisation. Duality gap: 2.550e+21, tolerance: 1.300e+19\n",
      "  model = cd_fast.enet_coordinate_descent(\n",
      "c:\\Users\\Abolfazl\\anaconda3\\Lib\\site-packages\\sklearn\\linear_model\\_coordinate_descent.py:697: ConvergenceWarning: Objective did not converge. You might want to increase the number of iterations, check the scale of the features or consider increasing regularisation. Duality gap: 2.460e+21, tolerance: 1.256e+19\n",
      "  model = cd_fast.enet_coordinate_descent(\n",
      "c:\\Users\\Abolfazl\\anaconda3\\Lib\\site-packages\\sklearn\\linear_model\\_coordinate_descent.py:697: ConvergenceWarning: Objective did not converge. You might want to increase the number of iterations, check the scale of the features or consider increasing regularisation. Duality gap: 2.612e+21, tolerance: 1.245e+19\n",
      "  model = cd_fast.enet_coordinate_descent(\n",
      "c:\\Users\\Abolfazl\\anaconda3\\Lib\\site-packages\\sklearn\\linear_model\\_coordinate_descent.py:697: ConvergenceWarning: Objective did not converge. You might want to increase the number of iterations, check the scale of the features or consider increasing regularisation. Duality gap: 2.578e+21, tolerance: 1.264e+19\n",
      "  model = cd_fast.enet_coordinate_descent(\n",
      "c:\\Users\\Abolfazl\\anaconda3\\Lib\\site-packages\\sklearn\\linear_model\\_coordinate_descent.py:697: ConvergenceWarning: Objective did not converge. You might want to increase the number of iterations, check the scale of the features or consider increasing regularisation. Duality gap: 2.512e+21, tolerance: 1.221e+19\n",
      "  model = cd_fast.enet_coordinate_descent(\n",
      "c:\\Users\\Abolfazl\\anaconda3\\Lib\\site-packages\\sklearn\\linear_model\\_coordinate_descent.py:697: ConvergenceWarning: Objective did not converge. You might want to increase the number of iterations, check the scale of the features or consider increasing regularisation. Duality gap: 2.668e+21, tolerance: 1.272e+19\n",
      "  model = cd_fast.enet_coordinate_descent(\n",
      "c:\\Users\\Abolfazl\\anaconda3\\Lib\\site-packages\\sklearn\\linear_model\\_coordinate_descent.py:697: ConvergenceWarning: Objective did not converge. You might want to increase the number of iterations, check the scale of the features or consider increasing regularisation. Duality gap: 2.600e+21, tolerance: 1.264e+19\n",
      "  model = cd_fast.enet_coordinate_descent(\n",
      "c:\\Users\\Abolfazl\\anaconda3\\Lib\\site-packages\\sklearn\\linear_model\\_coordinate_descent.py:697: ConvergenceWarning: Objective did not converge. You might want to increase the number of iterations, check the scale of the features or consider increasing regularisation. Duality gap: 2.600e+21, tolerance: 1.257e+19\n",
      "  model = cd_fast.enet_coordinate_descent(\n",
      "c:\\Users\\Abolfazl\\anaconda3\\Lib\\site-packages\\sklearn\\linear_model\\_coordinate_descent.py:697: ConvergenceWarning: Objective did not converge. You might want to increase the number of iterations, check the scale of the features or consider increasing regularisation. Duality gap: 2.735e+21, tolerance: 1.300e+19\n",
      "  model = cd_fast.enet_coordinate_descent(\n",
      "c:\\Users\\Abolfazl\\anaconda3\\Lib\\site-packages\\sklearn\\linear_model\\_coordinate_descent.py:697: ConvergenceWarning: Objective did not converge. You might want to increase the number of iterations, check the scale of the features or consider increasing regularisation. Duality gap: 2.582e+21, tolerance: 1.257e+19\n",
      "  model = cd_fast.enet_coordinate_descent(\n",
      "c:\\Users\\Abolfazl\\anaconda3\\Lib\\site-packages\\sklearn\\linear_model\\_coordinate_descent.py:697: ConvergenceWarning: Objective did not converge. You might want to increase the number of iterations, check the scale of the features or consider increasing regularisation. Duality gap: 2.650e+21, tolerance: 1.279e+19\n",
      "  model = cd_fast.enet_coordinate_descent(\n",
      "c:\\Users\\Abolfazl\\anaconda3\\Lib\\site-packages\\sklearn\\linear_model\\_coordinate_descent.py:697: ConvergenceWarning: Objective did not converge. You might want to increase the number of iterations, check the scale of the features or consider increasing regularisation. Duality gap: 2.509e+21, tolerance: 1.247e+19\n",
      "  model = cd_fast.enet_coordinate_descent(\n",
      "c:\\Users\\Abolfazl\\anaconda3\\Lib\\site-packages\\sklearn\\linear_model\\_coordinate_descent.py:697: ConvergenceWarning: Objective did not converge. You might want to increase the number of iterations, check the scale of the features or consider increasing regularisation. Duality gap: 2.665e+21, tolerance: 1.270e+19\n",
      "  model = cd_fast.enet_coordinate_descent(\n",
      "c:\\Users\\Abolfazl\\anaconda3\\Lib\\site-packages\\sklearn\\linear_model\\_coordinate_descent.py:697: ConvergenceWarning: Objective did not converge. You might want to increase the number of iterations, check the scale of the features or consider increasing regularisation. Duality gap: 2.411e+21, tolerance: 1.206e+19\n",
      "  model = cd_fast.enet_coordinate_descent(\n",
      "c:\\Users\\Abolfazl\\anaconda3\\Lib\\site-packages\\sklearn\\linear_model\\_coordinate_descent.py:697: ConvergenceWarning: Objective did not converge. You might want to increase the number of iterations, check the scale of the features or consider increasing regularisation. Duality gap: 2.686e+21, tolerance: 1.274e+19\n",
      "  model = cd_fast.enet_coordinate_descent(\n",
      "c:\\Users\\Abolfazl\\anaconda3\\Lib\\site-packages\\sklearn\\linear_model\\_coordinate_descent.py:697: ConvergenceWarning: Objective did not converge. You might want to increase the number of iterations, check the scale of the features or consider increasing regularisation. Duality gap: 2.504e+21, tolerance: 1.285e+19\n",
      "  model = cd_fast.enet_coordinate_descent(\n",
      "c:\\Users\\Abolfazl\\anaconda3\\Lib\\site-packages\\sklearn\\linear_model\\_coordinate_descent.py:697: ConvergenceWarning: Objective did not converge. You might want to increase the number of iterations, check the scale of the features or consider increasing regularisation. Duality gap: 2.719e+21, tolerance: 1.296e+19\n",
      "  model = cd_fast.enet_coordinate_descent(\n",
      "c:\\Users\\Abolfazl\\anaconda3\\Lib\\site-packages\\sklearn\\linear_model\\_coordinate_descent.py:697: ConvergenceWarning: Objective did not converge. You might want to increase the number of iterations, check the scale of the features or consider increasing regularisation. Duality gap: 2.640e+21, tolerance: 1.297e+19\n",
      "  model = cd_fast.enet_coordinate_descent(\n",
      "c:\\Users\\Abolfazl\\anaconda3\\Lib\\site-packages\\sklearn\\linear_model\\_coordinate_descent.py:697: ConvergenceWarning: Objective did not converge. You might want to increase the number of iterations, check the scale of the features or consider increasing regularisation. Duality gap: 2.584e+21, tolerance: 1.266e+19\n",
      "  model = cd_fast.enet_coordinate_descent(\n"
     ]
    },
    {
     "name": "stdout",
     "output_type": "stream",
     "text": [
      "Mean:  0.7468603862508736\n",
      "Standard deviation:  0.038843599375816606\n"
     ]
    },
    {
     "name": "stderr",
     "output_type": "stream",
     "text": [
      "c:\\Users\\Abolfazl\\anaconda3\\Lib\\site-packages\\sklearn\\linear_model\\_coordinate_descent.py:697: ConvergenceWarning: Objective did not converge. You might want to increase the number of iterations, check the scale of the features or consider increasing regularisation. Duality gap: 2.537e+21, tolerance: 1.214e+19\n",
      "  model = cd_fast.enet_coordinate_descent(\n"
     ]
    }
   ],
   "source": [
    "pipeline=Pipeline([\n",
    "    ('scale', StandardScaler()),\n",
    "    ('poly',PolynomialFeatures(degree=2)),\n",
    "    ('lasso',Lasso(alpha=1.0))\n",
    "])\n",
    "\n",
    "cvMP=RepeatedKFold(n_splits=10,n_repeats=3,random_state=1)\n",
    "scoreP=cross_val_score(pipeline,x_Data,y_Data,cv=cvMP)\n",
    "\n",
    "print(\"Mean: \",np.mean(score))\n",
    "print(\"Standard deviation: \", np.std(score))"
   ]
  },
  {
   "cell_type": "code",
   "execution_count": null,
   "id": "d2799032",
   "metadata": {},
   "outputs": [],
   "source": []
  }
 ],
 "metadata": {
  "kernelspec": {
   "display_name": "base",
   "language": "python",
   "name": "python3"
  },
  "language_info": {
   "codemirror_mode": {
    "name": "ipython",
    "version": 3
   },
   "file_extension": ".py",
   "mimetype": "text/x-python",
   "name": "python",
   "nbconvert_exporter": "python",
   "pygments_lexer": "ipython3",
   "version": "3.12.7"
  }
 },
 "nbformat": 4,
 "nbformat_minor": 5
}
