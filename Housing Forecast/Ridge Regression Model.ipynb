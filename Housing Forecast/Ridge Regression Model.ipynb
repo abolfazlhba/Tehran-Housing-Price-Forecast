{
 "cells": [
  {
   "cell_type": "code",
   "execution_count": 1,
   "id": "86ee457d",
   "metadata": {},
   "outputs": [],
   "source": [
    "import matplotlib.pyplot as plt\n",
    "import pandas as pd\n",
    "import pylab as pl\n",
    "import numpy as np\n",
    "import seaborn as sns\n",
    "from sklearn.ensemble import IsolationForest\n",
    "from sklearn.preprocessing import PolynomialFeatures\n",
    "from sklearn import linear_model\n",
    "from sklearn.metrics import r2_score\n",
    "import joblib\n",
    "from sklearn.preprocessing import StandardScaler"
   ]
  },
  {
   "cell_type": "code",
   "execution_count": 2,
   "id": "2a618803",
   "metadata": {},
   "outputs": [],
   "source": [
    "df=pd.read_csv(\"../Data/HouseImformation.csv\")"
   ]
  },
  {
   "cell_type": "markdown",
   "id": "7f2695f8",
   "metadata": {},
   "source": [
    "<h3 id=\"\">In Multiple Regression Model We found that the best method is to remove outliers. </h3>"
   ]
  },
  {
   "cell_type": "code",
   "execution_count": 3,
   "id": "a64014b2",
   "metadata": {},
   "outputs": [],
   "source": [
    "df['Area'] = df['Area'].str.replace(',', '').astype(float)\n",
    "\n",
    "df=df.dropna()\n",
    "\n",
    "isoOuter=IsolationForest(contamination=0.01)\n",
    "df['OuterData']=isoOuter.fit_predict(df[[\"Area\", \"Price\"]])\n",
    "\n",
    "df=df.drop(index=df[df['OuterData'] == -1].index)\n",
    "\n",
    "MeanPriceAddressOuter=df.groupby(\"Address\")[\"Price\"].mean()\n",
    "df[\"MeanPriceA\"] = df[\"Address\"].map(MeanPriceAddressOuter)"
   ]
  },
  {
   "cell_type": "code",
   "execution_count": 4,
   "id": "7cd5335a",
   "metadata": {},
   "outputs": [],
   "source": [
    "mask= np.random.rand(len(df)) < 0.8\n",
    "\n",
    "train=df[mask]\n",
    "test=df[~mask]\n",
    "\n",
    "x_train=np.asanyarray(train[['Area','Room','Parking','Warehouse','Elevator','MeanPriceA']])\n",
    "y_train=np.asanyarray(train[['Price']])\n",
    "\n",
    "x_test=np.asanyarray(test[['Area','Room','Parking','Warehouse','Elevator','MeanPriceA']])\n",
    "y_test=np.asanyarray(test[['Price']])\n",
    "\n",
    "\n",
    "scaler=StandardScaler()\n",
    "\n",
    "x_train_scaler=scaler.fit_transform(x_train)\n",
    "\n",
    "x_test_scaler=scaler.fit_transform(x_test)\n"
   ]
  },
  {
   "cell_type": "markdown",
   "id": "85988b5c",
   "metadata": {},
   "source": [
    "<h3 id=\"\">Find The Best Alpha</h3>"
   ]
  },
  {
   "cell_type": "code",
   "execution_count": 5,
   "id": "06fbe24a",
   "metadata": {},
   "outputs": [
    {
     "name": "stdout",
     "output_type": "stream",
     "text": [
      "Best alpha: {'alpha': 100.0}\n",
      "Best CV score: 0.7287397658012796\n",
      "R2-score: 0.74\n"
     ]
    }
   ],
   "source": [
    "from sklearn.model_selection import GridSearchCV\n",
    "from sklearn.linear_model import Ridge\n",
    "\n",
    "ridge=Ridge()\n",
    "\n",
    "alpha_Params={'alpha' : [0.001,0.01,0.1,1.0,10.0,100.0]}\n",
    "\n",
    "grid=GridSearchCV(ridge,alpha_Params,cv=5)\n",
    "\n",
    "grid.fit(x_train_scaler,y_train)\n",
    "\n",
    "print(\"Best alpha:\", grid.best_params_)\n",
    "print(\"Best CV score:\", grid.best_score_)\n",
    "\n",
    "\n",
    "\n",
    "y_predict = grid.predict(x_test_scaler)\n",
    "\n",
    "print(\"R2-score: %.2f\" % r2_score(y_test , y_predict))\n"
   ]
  },
  {
   "cell_type": "code",
   "execution_count": 6,
   "id": "a1fa89f6",
   "metadata": {},
   "outputs": [
    {
     "data": {
      "text/plain": [
       "['../Models/RidgeRegressionModel.pkl']"
      ]
     },
     "execution_count": 6,
     "metadata": {},
     "output_type": "execute_result"
    }
   ],
   "source": [
    "joblib.dump(grid, '../Models/RidgeRegressionModel.pkl')"
   ]
  },
  {
   "cell_type": "code",
   "execution_count": null,
   "id": "1d7e3ad4",
   "metadata": {},
   "outputs": [],
   "source": []
  }
 ],
 "metadata": {
  "kernelspec": {
   "display_name": "base",
   "language": "python",
   "name": "python3"
  },
  "language_info": {
   "codemirror_mode": {
    "name": "ipython",
    "version": 3
   },
   "file_extension": ".py",
   "mimetype": "text/x-python",
   "name": "python",
   "nbconvert_exporter": "python",
   "pygments_lexer": "ipython3",
   "version": "3.12.7"
  }
 },
 "nbformat": 4,
 "nbformat_minor": 5
}
