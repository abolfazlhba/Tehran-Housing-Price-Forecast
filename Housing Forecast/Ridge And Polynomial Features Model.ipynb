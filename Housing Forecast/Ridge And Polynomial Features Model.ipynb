{
 "cells": [
  {
   "cell_type": "code",
   "execution_count": 1,
   "id": "93948787",
   "metadata": {},
   "outputs": [],
   "source": [
    "import matplotlib.pyplot as plt\n",
    "import pandas as pd\n",
    "import pylab as pl\n",
    "import numpy as np\n",
    "import seaborn as sns\n",
    "from sklearn.ensemble import IsolationForest\n",
    "from sklearn.preprocessing import PolynomialFeatures\n",
    "from sklearn.metrics import r2_score\n",
    "import joblib\n",
    "from sklearn.model_selection import GridSearchCV\n",
    "from sklearn.linear_model import Ridge\n",
    "from sklearn.pipeline import Pipeline"
   ]
  },
  {
   "cell_type": "code",
   "execution_count": 2,
   "id": "a28dbf84",
   "metadata": {},
   "outputs": [],
   "source": [
    "df=pd.read_csv(\"../Data/HouseImformation.csv\")"
   ]
  },
  {
   "cell_type": "code",
   "execution_count": 3,
   "id": "f279684f",
   "metadata": {},
   "outputs": [],
   "source": [
    "df['Area'] = df['Area'].str.replace(',', '').astype(float)\n",
    "\n",
    "df=df.dropna()\n",
    "\n",
    "isoOuter=IsolationForest(contamination=0.01)\n",
    "df['OuterData']=isoOuter.fit_predict(df[[\"Area\", \"Price\"]])\n",
    "\n",
    "df=df.drop(index=df[df['OuterData'] == -1].index)\n",
    "\n",
    "MeanPriceAddressOuter=df.groupby(\"Address\")[\"Price\"].mean()\n",
    "df[\"MeanPriceA\"] = df[\"Address\"].map(MeanPriceAddressOuter)"
   ]
  },
  {
   "cell_type": "code",
   "execution_count": null,
   "id": "aa99b708",
   "metadata": {},
   "outputs": [],
   "source": [
    "mask= np.random.rand(len(df)) < 0.8\n",
    "\n",
    "train=df[mask]\n",
    "test=df[~mask]\n",
    "\n",
    "x_train=np.asanyarray(train[['Area','Room','Parking','Warehouse','Elevator','MeanPriceA']])\n",
    "y_train=np.asanyarray(train[['Price']])\n",
    "\n",
    "x_test=np.asanyarray(test[['Area','Room','Parking','Warehouse','Elevator','MeanPriceA']])\n",
    "y_test=np.asanyarray(test[['Price']])"
   ]
  },
  {
   "cell_type": "code",
   "execution_count": 7,
   "id": "f355b03a",
   "metadata": {},
   "outputs": [
    {
     "name": "stdout",
     "output_type": "stream",
     "text": [
      "Best alpha: {'ridge__alpha': 10.0}\n",
      "R2-score: 0.80\n"
     ]
    }
   ],
   "source": [
    "from sklearn.preprocessing import StandardScaler\n",
    "\n",
    "pipeline = Pipeline([\n",
    "    ('poly', PolynomialFeatures(degree=2)),\n",
    "    ('scale' , StandardScaler()),\n",
    "    ('ridge', Ridge())\n",
    "])\n",
    "\n",
    "param_grid = {\n",
    "    'ridge__alpha': [0.01, 0.1, 1.0, 10.0, 100.0]\n",
    "}\n",
    "#param_grid = {\n",
    "#    'ridge__alpha': [0.1]\n",
    "#}\n",
    "grid = GridSearchCV(pipeline, param_grid, cv=5)\n",
    "grid.fit(x_train, y_train)\n",
    "\n",
    "print(\"Best alpha:\", grid.best_params_)\n",
    "\n",
    "y_predict=grid.predict(x_test)\n",
    "\n",
    "print(\"R2-score: %.2f\" % r2_score(y_test , y_predict))"
   ]
  },
  {
   "cell_type": "code",
   "execution_count": 8,
   "id": "2212a75f",
   "metadata": {},
   "outputs": [
    {
     "data": {
      "text/plain": [
       "['../Models/Ridge&PolyRegressionModel.pkl']"
      ]
     },
     "execution_count": 8,
     "metadata": {},
     "output_type": "execute_result"
    }
   ],
   "source": [
    "joblib.dump(grid, '../Models/Ridge&PolyRegressionModel.pkl')"
   ]
  },
  {
   "cell_type": "code",
   "execution_count": null,
   "id": "050d4f8c",
   "metadata": {},
   "outputs": [],
   "source": []
  }
 ],
 "metadata": {
  "kernelspec": {
   "display_name": "base",
   "language": "python",
   "name": "python3"
  },
  "language_info": {
   "codemirror_mode": {
    "name": "ipython",
    "version": 3
   },
   "file_extension": ".py",
   "mimetype": "text/x-python",
   "name": "python",
   "nbconvert_exporter": "python",
   "pygments_lexer": "ipython3",
   "version": "3.12.7"
  }
 },
 "nbformat": 4,
 "nbformat_minor": 5
}
