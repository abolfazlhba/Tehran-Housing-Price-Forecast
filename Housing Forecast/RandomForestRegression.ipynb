{
 "cells": [
  {
   "cell_type": "code",
   "execution_count": 1,
   "id": "2b93492d",
   "metadata": {},
   "outputs": [],
   "source": [
    "import matplotlib.pyplot as plt\n",
    "import pandas as pd\n",
    "import pylab as pl\n",
    "import numpy as np\n",
    "import seaborn as sns\n",
    "from sklearn.ensemble import IsolationForest\n",
    "from sklearn.preprocessing import PolynomialFeatures\n",
    "from sklearn.metrics import r2_score\n",
    "import joblib\n",
    "from sklearn.model_selection import GridSearchCV\n",
    "from sklearn.pipeline import Pipeline"
   ]
  },
  {
   "cell_type": "code",
   "execution_count": 2,
   "id": "aa4e47d1",
   "metadata": {},
   "outputs": [],
   "source": [
    "df=pd.read_csv('../Data/HouseImformation.csv')"
   ]
  },
  {
   "cell_type": "code",
   "execution_count": 3,
   "id": "01c49eec",
   "metadata": {},
   "outputs": [],
   "source": [
    "df['Area'] = df['Area'].str.replace(',', '').astype(float)\n",
    "\n",
    "df=df.dropna()\n",
    "\n",
    "isoOuter=IsolationForest(contamination=0.01)\n",
    "df['OuterData']=isoOuter.fit_predict(df[[\"Area\", \"Price\"]])\n",
    "\n",
    "df=df.drop(index=df[df['OuterData'] == -1].index)\n",
    "\n",
    "MeanPriceAddressOuter=df.groupby(\"Address\")[\"Price\"].mean()\n",
    "df[\"MeanPriceA\"] = df[\"Address\"].map(MeanPriceAddressOuter)"
   ]
  },
  {
   "cell_type": "code",
   "execution_count": 28,
   "id": "32101afe",
   "metadata": {},
   "outputs": [],
   "source": [
    "from sklearn.preprocessing import StandardScaler\n",
    "\n",
    "scaler=StandardScaler()\n",
    "x_Data = scaler.fit_transform(df[['Area','Room','Parking','Warehouse','Elevator','MeanPriceA']])\n",
    "y_Data=df['Price'].values\n"
   ]
  },
  {
   "cell_type": "code",
   "execution_count": 38,
   "id": "24e97b7b",
   "metadata": {},
   "outputs": [],
   "source": [
    "mask= np.random.rand(len(df)) < 0.8\n",
    "\n",
    "train=df[mask]\n",
    "test=df[~mask]\n",
    "\n",
    "x_train=np.asanyarray(train[['Area','Room','Parking','Warehouse','Elevator','MeanPriceA']])\n",
    "y_train=np.asanyarray(train['Price'])\n",
    "\n",
    "x_test=np.asanyarray(test[['Area','Room','Parking','Warehouse','Elevator','MeanPriceA']])\n",
    "y_test=np.asanyarray(test['Price'])"
   ]
  },
  {
   "cell_type": "code",
   "execution_count": 9,
   "id": "50734960",
   "metadata": {},
   "outputs": [
    {
     "name": "stdout",
     "output_type": "stream",
     "text": [
      "Mean Is:  0.869367465078965\n",
      "Standard deviation:  0.024110795426355896\n"
     ]
    }
   ],
   "source": [
    "from sklearn.ensemble import RandomForestRegressor\n",
    "from sklearn.model_selection import RepeatedKFold ,cross_val_score\n",
    "\n",
    "model=RandomForestRegressor(n_estimators=100,max_depth=10,random_state=42)\n",
    "\n",
    "cv=RepeatedKFold(n_splits=10,n_repeats=3,random_state=1)\n",
    "\n",
    "crossVal=cross_val_score(model,x_Data,y_Data,cv=cv)\n",
    "\n",
    "print(\"Mean Is: \",crossVal.mean())\n",
    "print(\"Standard deviation: \", np.std(crossVal))\n"
   ]
  },
  {
   "cell_type": "code",
   "execution_count": 39,
   "id": "b2e5914b",
   "metadata": {},
   "outputs": [
    {
     "name": "stdout",
     "output_type": "stream",
     "text": [
      "Test R2 Score: 0.87\n"
     ]
    }
   ],
   "source": [
    "model.fit(x_train,y_train)\n",
    "\n",
    "y_predict=model.predict(x_test)\n",
    "\n",
    "from sklearn.metrics import r2_score\n",
    "print(f\"Test R2 Score: {r2_score(y_test, y_predict):.2f}\")"
   ]
  },
  {
   "cell_type": "code",
   "execution_count": 40,
   "id": "22d38896",
   "metadata": {},
   "outputs": [
    {
     "name": "stdout",
     "output_type": "stream",
     "text": [
      "Mean Is:  0.8496215762491919\n",
      "Standard deviation:  0.03365605190966061\n"
     ]
    }
   ],
   "source": [
    "pip=Pipeline([\n",
    "    ('scale',StandardScaler()),\n",
    "    ('poly',PolynomialFeatures(degree=2)),\n",
    "    ('RandomForestRegressor',RandomForestRegressor())\n",
    "])\n",
    "\n",
    "cv=RepeatedKFold(n_splits=10,n_repeats=3,random_state=1)\n",
    "\n",
    "crossVal=cross_val_score(pip,x_Data,y_Data,cv=cv)\n",
    "\n",
    "print(\"Mean Is: \",crossVal.mean())\n",
    "print(\"Standard deviation: \", np.std(crossVal))\n"
   ]
  },
  {
   "cell_type": "code",
   "execution_count": 41,
   "id": "a0710671",
   "metadata": {},
   "outputs": [
    {
     "name": "stdout",
     "output_type": "stream",
     "text": [
      "Test R2 Score: 0.85\n"
     ]
    }
   ],
   "source": [
    "pip.fit(x_train,y_train)\n",
    "\n",
    "y_predictR=pip.predict(x_test)\n",
    "\n",
    "from sklearn.metrics import r2_score\n",
    "print(f\"Test R2 Score: {r2_score(y_test, y_predictR):.2f}\")"
   ]
  },
  {
   "cell_type": "code",
   "execution_count": null,
   "id": "34f6473f",
   "metadata": {},
   "outputs": [],
   "source": []
  }
 ],
 "metadata": {
  "kernelspec": {
   "display_name": "base",
   "language": "python",
   "name": "python3"
  },
  "language_info": {
   "codemirror_mode": {
    "name": "ipython",
    "version": 3
   },
   "file_extension": ".py",
   "mimetype": "text/x-python",
   "name": "python",
   "nbconvert_exporter": "python",
   "pygments_lexer": "ipython3",
   "version": "3.12.7"
  }
 },
 "nbformat": 4,
 "nbformat_minor": 5
}
