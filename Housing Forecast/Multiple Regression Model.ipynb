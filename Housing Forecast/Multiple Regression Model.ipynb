{
 "cells": [
  {
   "cell_type": "code",
   "execution_count": 2,
   "id": "b7a11f56",
   "metadata": {},
   "outputs": [],
   "source": [
    "import matplotlib.pyplot as plt\n",
    "import pandas as pd\n",
    "import pylab as pl\n",
    "import numpy as np\n",
    "import seaborn as sns\n",
    "from sklearn.ensemble import IsolationForest\n",
    "from sklearn.preprocessing import PolynomialFeatures\n",
    "from sklearn import linear_model\n",
    "from sklearn.metrics import r2_score\n",
    "import joblib"
   ]
  },
  {
   "cell_type": "markdown",
   "id": "82b6e2c7",
   "metadata": {},
   "source": [
    "<h2 id=\"multiple_regression_model\">Multiple Regression Model With Raw Data</h2>"
   ]
  },
  {
   "cell_type": "code",
   "execution_count": 51,
   "id": "1207f16b",
   "metadata": {},
   "outputs": [],
   "source": [
    "dfMC=pd.read_csv(\"../Data/HouseImformation.csv\")"
   ]
  },
  {
   "cell_type": "code",
   "execution_count": 52,
   "id": "0e9b784a",
   "metadata": {},
   "outputs": [
    {
     "data": {
      "application/vnd.microsoft.datawrangler.viewer.v0+json": {
       "columns": [
        {
         "name": "index",
         "rawType": "int64",
         "type": "integer"
        },
        {
         "name": "Area",
         "rawType": "object",
         "type": "string"
        },
        {
         "name": "Room",
         "rawType": "int64",
         "type": "integer"
        },
        {
         "name": "Parking",
         "rawType": "bool",
         "type": "boolean"
        },
        {
         "name": "Warehouse",
         "rawType": "bool",
         "type": "boolean"
        },
        {
         "name": "Elevator",
         "rawType": "bool",
         "type": "boolean"
        },
        {
         "name": "Address",
         "rawType": "object",
         "type": "string"
        },
        {
         "name": "Price",
         "rawType": "float64",
         "type": "float"
        },
        {
         "name": "Price(USD)",
         "rawType": "float64",
         "type": "float"
        }
       ],
       "ref": "d04ff4fa-52a3-4f47-8e45-129c1b751492",
       "rows": [
        [
         "0",
         "63",
         "1",
         "True",
         "True",
         "True",
         "Shahran",
         "1850000000.0",
         "61666.67"
        ],
        [
         "1",
         "60",
         "1",
         "True",
         "True",
         "True",
         "Shahran",
         "1850000000.0",
         "61666.67"
        ],
        [
         "2",
         "79",
         "2",
         "True",
         "True",
         "True",
         "Pardis",
         "550000000.0",
         "18333.33"
        ],
        [
         "3",
         "95",
         "2",
         "True",
         "True",
         "True",
         "Shahrake Qods",
         "902500000.0",
         "30083.33"
        ],
        [
         "4",
         "123",
         "2",
         "True",
         "True",
         "True",
         "Shahrake Gharb",
         "7000000000.0",
         "233333.33"
        ],
        [
         "5",
         "70",
         "2",
         "True",
         "True",
         "False",
         "North Program Organization",
         "2050000000.0",
         "68333.33"
        ]
       ],
       "shape": {
        "columns": 8,
        "rows": 6
       }
      },
      "text/html": [
       "<div>\n",
       "<style scoped>\n",
       "    .dataframe tbody tr th:only-of-type {\n",
       "        vertical-align: middle;\n",
       "    }\n",
       "\n",
       "    .dataframe tbody tr th {\n",
       "        vertical-align: top;\n",
       "    }\n",
       "\n",
       "    .dataframe thead th {\n",
       "        text-align: right;\n",
       "    }\n",
       "</style>\n",
       "<table border=\"1\" class=\"dataframe\">\n",
       "  <thead>\n",
       "    <tr style=\"text-align: right;\">\n",
       "      <th></th>\n",
       "      <th>Area</th>\n",
       "      <th>Room</th>\n",
       "      <th>Parking</th>\n",
       "      <th>Warehouse</th>\n",
       "      <th>Elevator</th>\n",
       "      <th>Address</th>\n",
       "      <th>Price</th>\n",
       "      <th>Price(USD)</th>\n",
       "    </tr>\n",
       "  </thead>\n",
       "  <tbody>\n",
       "    <tr>\n",
       "      <th>0</th>\n",
       "      <td>63</td>\n",
       "      <td>1</td>\n",
       "      <td>True</td>\n",
       "      <td>True</td>\n",
       "      <td>True</td>\n",
       "      <td>Shahran</td>\n",
       "      <td>1.850000e+09</td>\n",
       "      <td>61666.67</td>\n",
       "    </tr>\n",
       "    <tr>\n",
       "      <th>1</th>\n",
       "      <td>60</td>\n",
       "      <td>1</td>\n",
       "      <td>True</td>\n",
       "      <td>True</td>\n",
       "      <td>True</td>\n",
       "      <td>Shahran</td>\n",
       "      <td>1.850000e+09</td>\n",
       "      <td>61666.67</td>\n",
       "    </tr>\n",
       "    <tr>\n",
       "      <th>2</th>\n",
       "      <td>79</td>\n",
       "      <td>2</td>\n",
       "      <td>True</td>\n",
       "      <td>True</td>\n",
       "      <td>True</td>\n",
       "      <td>Pardis</td>\n",
       "      <td>5.500000e+08</td>\n",
       "      <td>18333.33</td>\n",
       "    </tr>\n",
       "    <tr>\n",
       "      <th>3</th>\n",
       "      <td>95</td>\n",
       "      <td>2</td>\n",
       "      <td>True</td>\n",
       "      <td>True</td>\n",
       "      <td>True</td>\n",
       "      <td>Shahrake Qods</td>\n",
       "      <td>9.025000e+08</td>\n",
       "      <td>30083.33</td>\n",
       "    </tr>\n",
       "    <tr>\n",
       "      <th>4</th>\n",
       "      <td>123</td>\n",
       "      <td>2</td>\n",
       "      <td>True</td>\n",
       "      <td>True</td>\n",
       "      <td>True</td>\n",
       "      <td>Shahrake Gharb</td>\n",
       "      <td>7.000000e+09</td>\n",
       "      <td>233333.33</td>\n",
       "    </tr>\n",
       "    <tr>\n",
       "      <th>5</th>\n",
       "      <td>70</td>\n",
       "      <td>2</td>\n",
       "      <td>True</td>\n",
       "      <td>True</td>\n",
       "      <td>False</td>\n",
       "      <td>North Program Organization</td>\n",
       "      <td>2.050000e+09</td>\n",
       "      <td>68333.33</td>\n",
       "    </tr>\n",
       "  </tbody>\n",
       "</table>\n",
       "</div>"
      ],
      "text/plain": [
       "  Area  Room  Parking  Warehouse  Elevator                     Address  \\\n",
       "0   63     1     True       True      True                     Shahran   \n",
       "1   60     1     True       True      True                     Shahran   \n",
       "2   79     2     True       True      True                      Pardis   \n",
       "3   95     2     True       True      True               Shahrake Qods   \n",
       "4  123     2     True       True      True              Shahrake Gharb   \n",
       "5   70     2     True       True     False  North Program Organization   \n",
       "\n",
       "          Price  Price(USD)  \n",
       "0  1.850000e+09    61666.67  \n",
       "1  1.850000e+09    61666.67  \n",
       "2  5.500000e+08    18333.33  \n",
       "3  9.025000e+08    30083.33  \n",
       "4  7.000000e+09   233333.33  \n",
       "5  2.050000e+09    68333.33  "
      ]
     },
     "execution_count": 52,
     "metadata": {},
     "output_type": "execute_result"
    }
   ],
   "source": [
    "dfMC.head(6)"
   ]
  },
  {
   "cell_type": "code",
   "execution_count": 53,
   "id": "3f26bae6",
   "metadata": {},
   "outputs": [],
   "source": [
    "dfMC[\"Area\"]=dfMC[\"Area\"].str.replace(',','').astype(float)"
   ]
  },
  {
   "cell_type": "code",
   "execution_count": 54,
   "id": "598a5547",
   "metadata": {},
   "outputs": [
    {
     "data": {
      "image/png": "[encoded data removed]",
      "text/plain": [
       "<Figure size 640x480 with 1 Axes>"
      ]
     },
     "metadata": {},
     "output_type": "display_data"
    }
   ],
   "source": [
    "plt.scatter(dfMC[\"Area\"],dfMC[\"Price\"],color='red')\n",
    "plt.xlabel(\"Area\")\n",
    "plt.ylabel(\"Price\")\n",
    "plt.show()"
   ]
  },
  {
   "cell_type": "code",
   "execution_count": 55,
   "id": "5bef3ce2",
   "metadata": {},
   "outputs": [
    {
     "name": "stdout",
     "output_type": "stream",
     "text": [
      "OuterRow\n",
      " 1    3475\n",
      "-1       4\n",
      "Name: count, dtype: int64\n"
     ]
    }
   ],
   "source": [
    "iso=IsolationForest(contamination=0.001)\n",
    "dfMC[\"OuterRow\"] = iso.fit_predict(dfMC[[\"Area\"]])\n",
    "\n",
    "print(dfMC[\"OuterRow\"].value_counts())"
   ]
  },
  {
   "cell_type": "code",
   "execution_count": 56,
   "id": "f435e33c",
   "metadata": {},
   "outputs": [
    {
     "data": {
      "application/vnd.microsoft.datawrangler.viewer.v0+json": {
       "columns": [
        {
         "name": "index",
         "rawType": "int64",
         "type": "integer"
        },
        {
         "name": "Area",
         "rawType": "float64",
         "type": "float"
        },
        {
         "name": "Room",
         "rawType": "int64",
         "type": "integer"
        },
        {
         "name": "Parking",
         "rawType": "bool",
         "type": "boolean"
        },
        {
         "name": "Warehouse",
         "rawType": "bool",
         "type": "boolean"
        },
        {
         "name": "Elevator",
         "rawType": "bool",
         "type": "boolean"
        },
        {
         "name": "Address",
         "rawType": "object",
         "type": "string"
        },
        {
         "name": "Price",
         "rawType": "float64",
         "type": "float"
        },
        {
         "name": "Price(USD)",
         "rawType": "float64",
         "type": "float"
        },
        {
         "name": "OuterRow",
         "rawType": "int32",
         "type": "integer"
        }
       ],
       "ref": "9a65acc0-5db7-48bb-9fdf-6f57994d5398",
       "rows": [
        [
         "570",
         "3310000000.0",
         "2",
         "True",
         "True",
         "True",
         "Ostad Moein",
         "3310000000.0",
         "110333.33",
         "-1"
        ],
        [
         "709",
         "16160000000.0",
         "3",
         "True",
         "True",
         "True",
         "Pasdaran",
         "16160000000.0",
         "538666.67",
         "-1"
        ],
        [
         "1604",
         "8400000000.0",
         "2",
         "True",
         "True",
         "True",
         "Gheitarieh",
         "8700000000.0",
         "290000.0",
         "-1"
        ],
        [
         "2802",
         "2550000000.0",
         "2",
         "True",
         "True",
         "True",
         "Central Janatabad",
         "2550000000.0",
         "85000.0",
         "-1"
        ]
       ],
       "shape": {
        "columns": 9,
        "rows": 4
       }
      },
      "text/html": [
       "<div>\n",
       "<style scoped>\n",
       "    .dataframe tbody tr th:only-of-type {\n",
       "        vertical-align: middle;\n",
       "    }\n",
       "\n",
       "    .dataframe tbody tr th {\n",
       "        vertical-align: top;\n",
       "    }\n",
       "\n",
       "    .dataframe thead th {\n",
       "        text-align: right;\n",
       "    }\n",
       "</style>\n",
       "<table border=\"1\" class=\"dataframe\">\n",
       "  <thead>\n",
       "    <tr style=\"text-align: right;\">\n",
       "      <th></th>\n",
       "      <th>Area</th>\n",
       "      <th>Room</th>\n",
       "      <th>Parking</th>\n",
       "      <th>Warehouse</th>\n",
       "      <th>Elevator</th>\n",
       "      <th>Address</th>\n",
       "      <th>Price</th>\n",
       "      <th>Price(USD)</th>\n",
       "      <th>OuterRow</th>\n",
       "    </tr>\n",
       "  </thead>\n",
       "  <tbody>\n",
       "    <tr>\n",
       "      <th>570</th>\n",
       "      <td>3.310000e+09</td>\n",
       "      <td>2</td>\n",
       "      <td>True</td>\n",
       "      <td>True</td>\n",
       "      <td>True</td>\n",
       "      <td>Ostad Moein</td>\n",
       "      <td>3.310000e+09</td>\n",
       "      <td>110333.33</td>\n",
       "      <td>-1</td>\n",
       "    </tr>\n",
       "    <tr>\n",
       "      <th>709</th>\n",
       "      <td>1.616000e+10</td>\n",
       "      <td>3</td>\n",
       "      <td>True</td>\n",
       "      <td>True</td>\n",
       "      <td>True</td>\n",
       "      <td>Pasdaran</td>\n",
       "      <td>1.616000e+10</td>\n",
       "      <td>538666.67</td>\n",
       "      <td>-1</td>\n",
       "    </tr>\n",
       "    <tr>\n",
       "      <th>1604</th>\n",
       "      <td>8.400000e+09</td>\n",
       "      <td>2</td>\n",
       "      <td>True</td>\n",
       "      <td>True</td>\n",
       "      <td>True</td>\n",
       "      <td>Gheitarieh</td>\n",
       "      <td>8.700000e+09</td>\n",
       "      <td>290000.00</td>\n",
       "      <td>-1</td>\n",
       "    </tr>\n",
       "    <tr>\n",
       "      <th>2802</th>\n",
       "      <td>2.550000e+09</td>\n",
       "      <td>2</td>\n",
       "      <td>True</td>\n",
       "      <td>True</td>\n",
       "      <td>True</td>\n",
       "      <td>Central Janatabad</td>\n",
       "      <td>2.550000e+09</td>\n",
       "      <td>85000.00</td>\n",
       "      <td>-1</td>\n",
       "    </tr>\n",
       "  </tbody>\n",
       "</table>\n",
       "</div>"
      ],
      "text/plain": [
       "              Area  Room  Parking  Warehouse  Elevator            Address  \\\n",
       "570   3.310000e+09     2     True       True      True        Ostad Moein   \n",
       "709   1.616000e+10     3     True       True      True           Pasdaran   \n",
       "1604  8.400000e+09     2     True       True      True         Gheitarieh   \n",
       "2802  2.550000e+09     2     True       True      True  Central Janatabad   \n",
       "\n",
       "             Price  Price(USD)  OuterRow  \n",
       "570   3.310000e+09   110333.33        -1  \n",
       "709   1.616000e+10   538666.67        -1  \n",
       "1604  8.700000e+09   290000.00        -1  \n",
       "2802  2.550000e+09    85000.00        -1  "
      ]
     },
     "execution_count": 56,
     "metadata": {},
     "output_type": "execute_result"
    }
   ],
   "source": [
    "dfMC[dfMC[\"OuterRow\"] == -1]"
   ]
  },
  {
   "cell_type": "code",
   "execution_count": 57,
   "id": "05806d20",
   "metadata": {},
   "outputs": [],
   "source": [
    "dfMC=dfMC.drop(index=dfMC[dfMC[\"OuterRow\"] == -1].index)"
   ]
  },
  {
   "cell_type": "code",
   "execution_count": 58,
   "id": "9acc0c56",
   "metadata": {},
   "outputs": [
    {
     "name": "stdout",
     "output_type": "stream",
     "text": [
      "Area           0\n",
      "Room           0\n",
      "Parking        0\n",
      "Warehouse      0\n",
      "Elevator       0\n",
      "Address       23\n",
      "Price          0\n",
      "Price(USD)     0\n",
      "OuterRow       0\n",
      "dtype: int64\n"
     ]
    }
   ],
   "source": [
    "print(dfMC.isna().sum())"
   ]
  },
  {
   "cell_type": "code",
   "execution_count": 59,
   "id": "d9e61848",
   "metadata": {},
   "outputs": [],
   "source": [
    "dfMC=dfMC.dropna()"
   ]
  },
  {
   "cell_type": "code",
   "execution_count": 60,
   "id": "c273ce61",
   "metadata": {},
   "outputs": [
    {
     "data": {
      "image/png": "[encoded data removed]",
      "text/plain": [
       "<Figure size 640x480 with 1 Axes>"
      ]
     },
     "metadata": {},
     "output_type": "display_data"
    }
   ],
   "source": [
    "plt.scatter(dfMC[\"Area\"],dfMC[\"Price\"],color='red')\n",
    "plt.xlabel(\"Area\")\n",
    "plt.ylabel(\"Price\")\n",
    "plt.show()"
   ]
  },
  {
   "cell_type": "code",
   "execution_count": 61,
   "id": "77e1a505",
   "metadata": {},
   "outputs": [],
   "source": [
    "MeanPriceAddress=dfMC.groupby(\"Address\")[\"Price\"].mean()\n",
    "dfMC[\"MeanPriceA\"] = dfMC[\"Address\"].map(MeanPriceAddress)"
   ]
  },
  {
   "cell_type": "code",
   "execution_count": 62,
   "id": "d9befe89",
   "metadata": {},
   "outputs": [],
   "source": [
    "mask= np.random.rand(len(dfMC)) < 0.8\n",
    "\n",
    "train=dfMC[mask]\n",
    "test=dfMC[~mask]\n",
    "\n",
    "x_train=np.asanyarray(train[['Area','Room','Parking','Warehouse','Elevator','MeanPriceA']])\n",
    "y_train=np.asanyarray(train[['Price']])\n",
    "\n",
    "x_test=np.asanyarray(test[['Area','Room','Parking','Warehouse','Elevator','MeanPriceA']])\n",
    "y_test=np.asanyarray(test[['Price']])"
   ]
  },
  {
   "cell_type": "code",
   "execution_count": 64,
   "id": "e3372612",
   "metadata": {},
   "outputs": [
    {
     "name": "stdout",
     "output_type": "stream",
     "text": [
      "[[ 1.98292365e+07  2.40001158e+09 -2.85986057e+08  2.43650353e+08\n",
      "  -5.09567183e+08  7.53750227e-01]]\n",
      "R2-score: 0.66\n"
     ]
    }
   ],
   "source": [
    "multiReg = linear_model.LinearRegression()\n",
    "\n",
    "multiReg.fit(x_train,y_train)\n",
    "\n",
    "y_predict=multiReg.predict(x_test)\n",
    "\n",
    "\n",
    "print(multiReg.coef_)\n",
    "print(\"R2-score: %.2f\" % r2_score(y_test , y_predict))\n"
   ]
  },
  {
   "cell_type": "code",
   "execution_count": 65,
   "id": "e0cfd86f",
   "metadata": {},
   "outputs": [
    {
     "data": {
      "text/plain": [
       "['../Models/LinearRegMiniCleanModel.pkl']"
      ]
     },
     "execution_count": 65,
     "metadata": {},
     "output_type": "execute_result"
    }
   ],
   "source": [
    "joblib.dump(multiReg, '../Models/LinearRegMiniCleanModel.pkl')"
   ]
  },
  {
   "cell_type": "markdown",
   "id": "ec17bc42",
   "metadata": {},
   "source": [
    "<h2 id=\"multiple_regression_model\">Multiple Regression Model WithOut Outer Data</h2>"
   ]
  },
  {
   "cell_type": "code",
   "execution_count": 3,
   "id": "ef93ab77",
   "metadata": {},
   "outputs": [],
   "source": [
    "dfOuter=pd.read_csv(\"../Data/HouseImformation.csv\")"
   ]
  },
  {
   "cell_type": "code",
   "execution_count": 4,
   "id": "d9052aa4",
   "metadata": {},
   "outputs": [],
   "source": [
    "dfOuter['Area'] = dfOuter['Area'].str.replace(',', '').astype(float)"
   ]
  },
  {
   "cell_type": "code",
   "execution_count": 5,
   "id": "3f7ae260",
   "metadata": {},
   "outputs": [],
   "source": [
    "dfOuter=dfOuter.dropna()"
   ]
  },
  {
   "cell_type": "code",
   "execution_count": 6,
   "id": "fcded5cd",
   "metadata": {},
   "outputs": [],
   "source": [
    "iso=IsolationForest(contamination=0.01)\n",
    "dfOuter['OuterData']=iso.fit_predict(dfOuter[[\"Area\", \"Price\"]])"
   ]
  },
  {
   "cell_type": "code",
   "execution_count": 7,
   "id": "0d99fe4a",
   "metadata": {},
   "outputs": [
    {
     "name": "stdout",
     "output_type": "stream",
     "text": [
      "OuterData\n",
      " 1    3421\n",
      "-1      35\n",
      "Name: count, dtype: int64\n"
     ]
    }
   ],
   "source": [
    "print(dfOuter['OuterData'].value_counts())"
   ]
  },
  {
   "cell_type": "code",
   "execution_count": 8,
   "id": "09450abe",
   "metadata": {},
   "outputs": [],
   "source": [
    "dfOuter=dfOuter.drop(index=dfOuter[dfOuter['OuterData'] == -1].index)"
   ]
  },
  {
   "cell_type": "code",
   "execution_count": 9,
   "id": "f9db07a5",
   "metadata": {},
   "outputs": [
    {
     "data": {
      "image/png": "[encoded data removed]",
      "text/plain": [
       "<Figure size 640x480 with 1 Axes>"
      ]
     },
     "metadata": {},
     "output_type": "display_data"
    }
   ],
   "source": [
    "plt.scatter(dfOuter[\"Area\"],dfOuter[\"Price\"],color='red')\n",
    "plt.xlabel(\"Area\")\n",
    "plt.ylabel(\"Price\")\n",
    "plt.show()"
   ]
  },
  {
   "cell_type": "code",
   "execution_count": 10,
   "id": "d1abcdc8",
   "metadata": {},
   "outputs": [],
   "source": [
    "MeanPriceAddress=dfOuter.groupby(\"Address\")[\"Price\"].mean()\n",
    "dfOuter[\"MeanPriceA\"] = dfOuter[\"Address\"].map(MeanPriceAddress)"
   ]
  },
  {
   "cell_type": "code",
   "execution_count": 11,
   "id": "1589177e",
   "metadata": {},
   "outputs": [],
   "source": [
    "mask= np.random.rand(len(dfOuter)) < 0.8\n",
    "\n",
    "train=dfOuter[mask]\n",
    "test=dfOuter[~mask]\n",
    "\n",
    "x_train=np.asanyarray(train[['Area','Room','Parking','Warehouse','Elevator','MeanPriceA']])\n",
    "y_train=np.asanyarray(train[['Price']])\n",
    "\n",
    "x_test=np.asanyarray(test[['Area','Room','Parking','Warehouse','Elevator','MeanPriceA']])\n",
    "y_test=np.asanyarray(test[['Price']])"
   ]
  },
  {
   "cell_type": "code",
   "execution_count": 12,
   "id": "b447b894",
   "metadata": {},
   "outputs": [
    {
     "name": "stdout",
     "output_type": "stream",
     "text": [
      "[[ 4.02619896e+07  7.23463151e+08 -4.02936762e+08  3.81083511e+08\n",
      "   1.39212611e+08  7.20354666e-01]]\n",
      "R2-score: 0.75\n"
     ]
    }
   ],
   "source": [
    "multiReg = linear_model.LinearRegression()\n",
    "\n",
    "multiReg.fit(x_train,y_train)\n",
    "\n",
    "y_predict=multiReg.predict(x_test)\n",
    "\n",
    "\n",
    "print(multiReg.coef_)\n",
    "print(\"R2-score: %.2f\" % r2_score(y_test , y_predict))"
   ]
  },
  {
   "cell_type": "code",
   "execution_count": 13,
   "id": "cf525967",
   "metadata": {},
   "outputs": [
    {
     "data": {
      "text/plain": [
       "['../Models/LinearRegCleanedModel.pkl']"
      ]
     },
     "execution_count": 13,
     "metadata": {},
     "output_type": "execute_result"
    }
   ],
   "source": [
    "joblib.dump(multiReg, '../Models/LinearRegCleanedModel.pkl')"
   ]
  },
  {
   "cell_type": "markdown",
   "id": "2e31aa13",
   "metadata": {},
   "source": [
    "<h2 id=\"multiple_regression_model\">Multiple Regression Model with Raw Data</h2>"
   ]
  },
  {
   "cell_type": "code",
   "execution_count": 15,
   "id": "fe1301bf",
   "metadata": {},
   "outputs": [],
   "source": [
    "dfRaw=pd.read_csv(\"../Data/HouseImformation.csv\")"
   ]
  },
  {
   "cell_type": "code",
   "execution_count": 16,
   "id": "7262917a",
   "metadata": {},
   "outputs": [],
   "source": [
    "dfRaw=dfRaw.dropna()"
   ]
  },
  {
   "cell_type": "code",
   "execution_count": 18,
   "id": "68a3f7be",
   "metadata": {},
   "outputs": [],
   "source": [
    "MeanPriceAddress=dfRaw.groupby(\"Address\")[\"Price\"].mean()\n",
    "dfRaw[\"MeanPriceA\"] = dfRaw[\"Address\"].map(MeanPriceAddress)"
   ]
  },
  {
   "cell_type": "code",
   "execution_count": 19,
   "id": "66548be6",
   "metadata": {},
   "outputs": [],
   "source": [
    "mask= np.random.rand(len(dfOuter)) < 0.8\n",
    "\n",
    "train=dfOuter[mask]\n",
    "test=dfOuter[~mask]\n",
    "\n",
    "x_train=np.asanyarray(train[['Area','Room','Parking','Warehouse','Elevator','MeanPriceA']])\n",
    "y_train=np.asanyarray(train[['Price']])\n",
    "\n",
    "x_test=np.asanyarray(test[['Area','Room','Parking','Warehouse','Elevator','MeanPriceA']])\n",
    "y_test=np.asanyarray(test[['Price']])"
   ]
  },
  {
   "cell_type": "code",
   "execution_count": 20,
   "id": "009db5d9",
   "metadata": {},
   "outputs": [
    {
     "name": "stdout",
     "output_type": "stream",
     "text": [
      "[[ 4.51653614e+07  5.77554588e+08 -4.39629215e+08  2.64912318e+08\n",
      "   1.33077859e+08  7.10220656e-01]]\n",
      "R2-score: 0.70\n"
     ]
    }
   ],
   "source": [
    "multiReg = linear_model.LinearRegression()\n",
    "\n",
    "multiReg.fit(x_train,y_train)\n",
    "\n",
    "y_predict=multiReg.predict(x_test)\n",
    "\n",
    "\n",
    "print(multiReg.coef_)\n",
    "print(\"R2-score: %.2f\" % r2_score(y_test , y_predict))"
   ]
  },
  {
   "cell_type": "code",
   "execution_count": null,
   "id": "82dc920d",
   "metadata": {},
   "outputs": [],
   "source": []
  }
 ],
 "metadata": {
  "kernelspec": {
   "display_name": "base",
   "language": "python",
   "name": "python3"
  },
  "language_info": {
   "codemirror_mode": {
    "name": "ipython",
    "version": 3
   },
   "file_extension": ".py",
   "mimetype": "text/x-python",
   "name": "python",
   "nbconvert_exporter": "python",
   "pygments_lexer": "ipython3",
   "version": "3.12.7"
  }
 },
 "nbformat": 4,
 "nbformat_minor": 5
}
