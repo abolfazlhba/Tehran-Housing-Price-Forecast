{
 "cells": [
  {
   "cell_type": "code",
   "execution_count": 1,
   "id": "dad7c776",
   "metadata": {},
   "outputs": [],
   "source": [
    "import matplotlib.pyplot as plt\n",
    "import pandas as pd\n",
    "import pylab as pl\n",
    "import numpy as np\n",
    "import seaborn as sns\n",
    "from sklearn.ensemble import IsolationForest\n",
    "from sklearn.preprocessing import PolynomialFeatures\n",
    "from sklearn import linear_model\n",
    "from sklearn.metrics import r2_score\n",
    "import joblib"
   ]
  },
  {
   "cell_type": "code",
   "execution_count": 2,
   "id": "e3a61a17",
   "metadata": {},
   "outputs": [],
   "source": [
    "df=pd.read_csv(\"../Data/HouseImformation.csv\")"
   ]
  },
  {
   "cell_type": "code",
   "execution_count": 3,
   "id": "2f3c2f2e",
   "metadata": {},
   "outputs": [
    {
     "data": {
      "application/vnd.microsoft.datawrangler.viewer.v0+json": {
       "columns": [
        {
         "name": "index",
         "rawType": "int64",
         "type": "integer"
        },
        {
         "name": "Area",
         "rawType": "object",
         "type": "string"
        },
        {
         "name": "Room",
         "rawType": "int64",
         "type": "integer"
        },
        {
         "name": "Parking",
         "rawType": "bool",
         "type": "boolean"
        },
        {
         "name": "Warehouse",
         "rawType": "bool",
         "type": "boolean"
        },
        {
         "name": "Elevator",
         "rawType": "bool",
         "type": "boolean"
        },
        {
         "name": "Address",
         "rawType": "object",
         "type": "string"
        },
        {
         "name": "Price",
         "rawType": "float64",
         "type": "float"
        },
        {
         "name": "Price(USD)",
         "rawType": "float64",
         "type": "float"
        }
       ],
       "ref": "0df35fe9-e993-4e2a-b6e7-d3767a96de84",
       "rows": [
        [
         "0",
         "63",
         "1",
         "True",
         "True",
         "True",
         "Shahran",
         "1850000000.0",
         "61666.67"
        ],
        [
         "1",
         "60",
         "1",
         "True",
         "True",
         "True",
         "Shahran",
         "1850000000.0",
         "61666.67"
        ],
        [
         "2",
         "79",
         "2",
         "True",
         "True",
         "True",
         "Pardis",
         "550000000.0",
         "18333.33"
        ],
        [
         "3",
         "95",
         "2",
         "True",
         "True",
         "True",
         "Shahrake Qods",
         "902500000.0",
         "30083.33"
        ],
        [
         "4",
         "123",
         "2",
         "True",
         "True",
         "True",
         "Shahrake Gharb",
         "7000000000.0",
         "233333.33"
        ],
        [
         "5",
         "70",
         "2",
         "True",
         "True",
         "False",
         "North Program Organization",
         "2050000000.0",
         "68333.33"
        ]
       ],
       "shape": {
        "columns": 8,
        "rows": 6
       }
      },
      "text/html": [
       "<div>\n",
       "<style scoped>\n",
       "    .dataframe tbody tr th:only-of-type {\n",
       "        vertical-align: middle;\n",
       "    }\n",
       "\n",
       "    .dataframe tbody tr th {\n",
       "        vertical-align: top;\n",
       "    }\n",
       "\n",
       "    .dataframe thead th {\n",
       "        text-align: right;\n",
       "    }\n",
       "</style>\n",
       "<table border=\"1\" class=\"dataframe\">\n",
       "  <thead>\n",
       "    <tr style=\"text-align: right;\">\n",
       "      <th></th>\n",
       "      <th>Area</th>\n",
       "      <th>Room</th>\n",
       "      <th>Parking</th>\n",
       "      <th>Warehouse</th>\n",
       "      <th>Elevator</th>\n",
       "      <th>Address</th>\n",
       "      <th>Price</th>\n",
       "      <th>Price(USD)</th>\n",
       "    </tr>\n",
       "  </thead>\n",
       "  <tbody>\n",
       "    <tr>\n",
       "      <th>0</th>\n",
       "      <td>63</td>\n",
       "      <td>1</td>\n",
       "      <td>True</td>\n",
       "      <td>True</td>\n",
       "      <td>True</td>\n",
       "      <td>Shahran</td>\n",
       "      <td>1.850000e+09</td>\n",
       "      <td>61666.67</td>\n",
       "    </tr>\n",
       "    <tr>\n",
       "      <th>1</th>\n",
       "      <td>60</td>\n",
       "      <td>1</td>\n",
       "      <td>True</td>\n",
       "      <td>True</td>\n",
       "      <td>True</td>\n",
       "      <td>Shahran</td>\n",
       "      <td>1.850000e+09</td>\n",
       "      <td>61666.67</td>\n",
       "    </tr>\n",
       "    <tr>\n",
       "      <th>2</th>\n",
       "      <td>79</td>\n",
       "      <td>2</td>\n",
       "      <td>True</td>\n",
       "      <td>True</td>\n",
       "      <td>True</td>\n",
       "      <td>Pardis</td>\n",
       "      <td>5.500000e+08</td>\n",
       "      <td>18333.33</td>\n",
       "    </tr>\n",
       "    <tr>\n",
       "      <th>3</th>\n",
       "      <td>95</td>\n",
       "      <td>2</td>\n",
       "      <td>True</td>\n",
       "      <td>True</td>\n",
       "      <td>True</td>\n",
       "      <td>Shahrake Qods</td>\n",
       "      <td>9.025000e+08</td>\n",
       "      <td>30083.33</td>\n",
       "    </tr>\n",
       "    <tr>\n",
       "      <th>4</th>\n",
       "      <td>123</td>\n",
       "      <td>2</td>\n",
       "      <td>True</td>\n",
       "      <td>True</td>\n",
       "      <td>True</td>\n",
       "      <td>Shahrake Gharb</td>\n",
       "      <td>7.000000e+09</td>\n",
       "      <td>233333.33</td>\n",
       "    </tr>\n",
       "    <tr>\n",
       "      <th>5</th>\n",
       "      <td>70</td>\n",
       "      <td>2</td>\n",
       "      <td>True</td>\n",
       "      <td>True</td>\n",
       "      <td>False</td>\n",
       "      <td>North Program Organization</td>\n",
       "      <td>2.050000e+09</td>\n",
       "      <td>68333.33</td>\n",
       "    </tr>\n",
       "  </tbody>\n",
       "</table>\n",
       "</div>"
      ],
      "text/plain": [
       "  Area  Room  Parking  Warehouse  Elevator                     Address  \\\n",
       "0   63     1     True       True      True                     Shahran   \n",
       "1   60     1     True       True      True                     Shahran   \n",
       "2   79     2     True       True      True                      Pardis   \n",
       "3   95     2     True       True      True               Shahrake Qods   \n",
       "4  123     2     True       True      True              Shahrake Gharb   \n",
       "5   70     2     True       True     False  North Program Organization   \n",
       "\n",
       "          Price  Price(USD)  \n",
       "0  1.850000e+09    61666.67  \n",
       "1  1.850000e+09    61666.67  \n",
       "2  5.500000e+08    18333.33  \n",
       "3  9.025000e+08    30083.33  \n",
       "4  7.000000e+09   233333.33  \n",
       "5  2.050000e+09    68333.33  "
      ]
     },
     "execution_count": 3,
     "metadata": {},
     "output_type": "execute_result"
    }
   ],
   "source": [
    "df.head(6)"
   ]
  },
  {
   "cell_type": "code",
   "execution_count": 4,
   "id": "bd56630c",
   "metadata": {},
   "outputs": [],
   "source": [
    "df[\"Area\"]=df[\"Area\"].str.replace(',','').astype(float)"
   ]
  },
  {
   "cell_type": "code",
   "execution_count": 6,
   "id": "eb195f1e",
   "metadata": {},
   "outputs": [
    {
     "data": {
      "image/png": "[encoded data removed]",
      "text/plain": [
       "<Figure size 640x480 with 1 Axes>"
      ]
     },
     "metadata": {},
     "output_type": "display_data"
    }
   ],
   "source": [
    "plt.scatter(df[\"Area\"],df[\"Price\"],color='red')\n",
    "plt.xlabel(\"Area\")\n",
    "plt.ylabel(\"Price\")\n",
    "plt.show()"
   ]
  },
  {
   "cell_type": "code",
   "execution_count": 8,
   "id": "759fded1",
   "metadata": {},
   "outputs": [],
   "source": [
    "iso=IsolationForest(contamination=0.01)\n",
    "df[\"Outer\"]=iso.fit_predict(df[[\"Area\",\"Price\"]])"
   ]
  },
  {
   "cell_type": "code",
   "execution_count": 9,
   "id": "1b6d5a7c",
   "metadata": {},
   "outputs": [
    {
     "name": "stdout",
     "output_type": "stream",
     "text": [
      "Outer\n",
      " 1    3444\n",
      "-1      35\n",
      "Name: count, dtype: int64\n"
     ]
    }
   ],
   "source": [
    "print(df['Outer'].value_counts())"
   ]
  },
  {
   "cell_type": "code",
   "execution_count": 12,
   "id": "089bc490",
   "metadata": {},
   "outputs": [],
   "source": [
    "df=df.drop(index=df[df[\"Outer\"] == -1].index)\n",
    "df=df.dropna()"
   ]
  },
  {
   "cell_type": "code",
   "execution_count": 14,
   "id": "15cc885b",
   "metadata": {},
   "outputs": [],
   "source": [
    "MeanPriceAddressOuter=df.groupby(\"Address\")[\"Price\"].mean()\n",
    "df[\"MeanPriceA\"] = df[\"Address\"].map(MeanPriceAddressOuter)"
   ]
  },
  {
   "cell_type": "code",
   "execution_count": 15,
   "id": "d7cb4ed5",
   "metadata": {},
   "outputs": [],
   "source": [
    "mask=np.random.rand(len(df)) < 0.8\n",
    "train=df[mask]\n",
    "test=df[~mask]\n",
    "\n",
    "\n",
    "x_train=np.asanyarray(train[['Area','Room','Parking','Warehouse','Elevator','MeanPriceA']])\n",
    "y_train=np.asanyarray(train[['Price']])\n",
    "\n",
    "x_test=np.asanyarray(test[['Area','Room','Parking','Warehouse','Elevator','MeanPriceA']])\n",
    "y_test=np.asanyarray(test[['Price']])"
   ]
  },
  {
   "cell_type": "code",
   "execution_count": 16,
   "id": "ce422bb1",
   "metadata": {},
   "outputs": [
    {
     "name": "stdout",
     "output_type": "stream",
     "text": [
      "Coefficients Poly 2:  [[ 3.93650711e-09  3.27789843e-08  2.26954538e-12  1.16756296e-11\n",
      "  -1.79722576e-11  2.13827667e-11  7.33652238e-02  3.50948560e-08\n",
      "   1.01934517e-10  9.60042489e-10 -1.48797853e-09  2.35061730e-09\n",
      "   7.05111442e-03 -4.16064963e-12  1.94021684e-11 -3.18917820e-11\n",
      "   4.42371756e-11  3.47348479e-02  1.16756250e-11 -7.54922142e-14\n",
      "   2.46168425e-11  8.76259887e-02 -1.79721996e-11  8.49899164e-12\n",
      "  -5.34530390e-02  2.13827560e-11  1.86856763e-01 -3.53699300e-11]]\n",
      "Coefficients Poly 3:  [[-6.13323579e-18 -7.65329325e-10 -1.02155182e-13  5.53917963e-12\n",
      "   3.59494462e-11  2.11065623e-11  5.46453427e-10  1.55614655e-10\n",
      "   6.72702038e-10  2.49200115e-09 -1.20513338e-09 -4.08496420e-08\n",
      "   8.88851888e-08 -7.04026510e-21 -1.33959596e-21 -2.03467551e-21\n",
      "  -4.11705138e-22 -4.49485775e-12  7.76418466e-22  8.56963089e-22\n",
      "   1.54057359e-21  2.38263181e-12  2.96514002e-22  1.45994480e-21\n",
      "   1.60423570e-12  1.33721340e-21  3.82957785e-12  8.16758642e-11\n",
      "   4.29872626e-16  4.13540160e-18 -2.90833366e-18 -5.46171719e-18\n",
      "   2.49787227e-18  7.81524087e-09 -2.76988394e-19 -1.24030083e-19\n",
      "  -1.77828654e-19 -6.88339686e-20 -3.94078941e-11  1.04626278e-20\n",
      "   1.40809611e-20  6.73771357e-20  5.42403609e-11 -1.93714342e-20\n",
      "   6.27081289e-20  1.35967381e-11  5.46566456e-20  1.52965653e-10\n",
      "   4.41345856e-13 -1.40711234e-20 -5.21274057e-21 -6.45692288e-21\n",
      "  -3.84291500e-21 -9.90097303e-12 -1.33959596e-21 -1.23543353e-21\n",
      "  -8.36825534e-23 -2.87776092e-12 -2.03467551e-21 -2.10339067e-22\n",
      "  -3.94315971e-12 -4.11705138e-22 -1.03458588e-12 -7.98719053e-13\n",
      "   7.76418466e-22  8.56963089e-22  1.54057359e-21  2.38263181e-12\n",
      "   8.56963089e-22  1.60899456e-21  2.58343286e-12  1.54057359e-21\n",
      "   4.26086281e-12 -2.03720449e-12  2.96514002e-22  1.45994480e-21\n",
      "   1.60423570e-12  1.45994480e-21  4.10035322e-12 -2.82936026e-12\n",
      "   1.33721340e-21  3.82957785e-12  1.10347098e-11 -6.04007283e-21]]\n",
      "Coefficients Poly 4:  [[-1.28764238e-27  1.33297935e-26  4.24962367e-33 -2.00922641e-31\n",
      "  -8.57439058e-31  7.57874498e-31  1.11521603e-30 -7.85578549e-31\n",
      "   0.00000000e+00  5.53693701e-49  4.72722874e-49  4.88669026e-49\n",
      "   1.25234799e-38  2.60692805e-50  7.82126037e-51  5.61829412e-51\n",
      "   6.40140709e-51  2.18800542e-40  1.54483840e-51  1.66479250e-51\n",
      "   2.05945423e-51  8.06302531e-41  1.22260435e-52  1.45665575e-51\n",
      "   7.69215509e-41  1.16986738e-51  7.40553829e-41  1.13220772e-30\n",
      "   2.10229849e-44  3.73060981e-46  1.06402179e-46  1.04290157e-46\n",
      "   1.03029389e-46  1.71998481e-36  5.91120034e-48  1.77083756e-48\n",
      "   1.63761180e-48  1.59874160e-48  2.88775008e-38  5.53693701e-49\n",
      "   5.62902288e-49  5.53112390e-49  9.68784744e-39  4.72722874e-49\n",
      "   5.04840799e-49  9.56803674e-39  4.88669026e-49  8.80170694e-39\n",
      "   1.06166683e-28  9.00789576e-50  2.78302968e-50  2.38527750e-50\n",
      "   2.34622656e-50  5.13478881e-40  7.82126037e-51  7.91369127e-51\n",
      "   8.07739173e-51  1.81464122e-40  5.61829412e-51  6.90276442e-51\n",
      "   1.74411887e-40  6.40140709e-51  1.64497994e-40  1.89762989e-30\n",
      "   1.54483840e-51  1.66479250e-51  2.05945423e-51  8.06302531e-41\n",
      "   1.66479250e-51  2.13549801e-51  7.75291357e-41  2.05945423e-51\n",
      "   7.32966432e-41  7.10852028e-31  1.22260435e-52  1.45665575e-51\n",
      "   7.69215509e-41  1.45665575e-51  6.88828978e-41  6.94406300e-31\n",
      "   1.16986738e-51  7.40553829e-41  6.51509013e-31  9.13393415e-21\n",
      "   2.03343099e-42  6.30365230e-44  1.61302555e-44  1.72570949e-44\n",
      "   1.99826439e-44  2.37022146e-34  1.09169509e-45  3.13874724e-46\n",
      "   3.12229459e-46  3.20552256e-46  3.78348817e-36  1.06402179e-46\n",
      "   1.09215607e-46  1.08008820e-46  1.08674743e-36  1.04290157e-46\n",
      "   1.03705064e-46  1.10672507e-36  1.03029389e-46  1.04809359e-36\n",
      "   8.13497112e-27  1.77560299e-47  5.37289801e-48  5.14286563e-48\n",
      "   5.09891872e-48  6.43556398e-38  1.77083756e-48  1.78221981e-48\n",
      "   1.72701063e-48  2.11786369e-38  1.63761180e-48  1.62323320e-48\n",
      "   2.08520221e-38  1.59874160e-48  2.03078861e-38  1.27049351e-28\n",
      "   5.53693701e-49  5.62902288e-49  5.53112390e-49  9.68784744e-39\n",
      "   5.62902288e-49  5.52876956e-49  9.38959145e-39  5.53112390e-49\n",
      "   8.78095442e-39  3.94317093e-29  4.72722874e-49  5.04840799e-49\n",
      "   9.56803674e-39  5.04840799e-49  8.37648417e-39  4.12884912e-29\n",
      "   4.88669026e-49  8.80170694e-39  4.00277729e-29  2.13622874e-23\n",
      "   2.86209603e-49  9.01720203e-50  8.24893320e-50  7.88200410e-50\n",
      "   1.18653155e-39  2.78302968e-50  2.78719855e-50  2.69786823e-50\n",
      "   4.15797831e-40  2.38527750e-50  2.44198195e-50  3.99094003e-40\n",
      "   2.34622656e-50  3.88958792e-40  2.47045526e-30  7.82126037e-51\n",
      "   7.91369127e-51  8.07739173e-51  1.81464122e-40  7.91369127e-51\n",
      "   8.08228249e-51  1.74753036e-40  8.07739173e-51  1.65420251e-40\n",
      "   1.01130896e-30  5.61829412e-51  6.90276442e-51  1.74411887e-40\n",
      "   6.90276442e-51  1.56031676e-40  9.67059337e-31  6.40140709e-51\n",
      "   1.64497994e-40  9.97073460e-31 -2.74802517e-23  1.54483840e-51\n",
      "   1.66479250e-51  2.05945423e-51  8.06302531e-41  1.66479250e-51\n",
      "   2.13549801e-51  7.75291357e-41  2.05945423e-51  7.32966432e-41\n",
      "   7.10852028e-31  1.66479250e-51  2.13549801e-51  7.75291357e-41\n",
      "   2.13549801e-51  7.01898379e-41  6.59985798e-31  2.05945423e-51\n",
      "   7.32966432e-41  6.25132190e-31 -2.17213427e-22  1.22260435e-52\n",
      "   1.45665575e-51  7.69215509e-41  1.45665575e-51  6.88828978e-41\n",
      "   6.94406300e-31  1.45665575e-51  6.88828978e-41  5.64642501e-31\n",
      "  -1.43947791e-22  1.16986738e-51  7.40553829e-41  6.51509013e-31\n",
      "   1.17706001e-22 -5.22281617e-31]]\n"
     ]
    }
   ],
   "source": [
    "poly2=PolynomialFeatures(degree=2)\n",
    "poly3=PolynomialFeatures(degree=3)\n",
    "poly4=PolynomialFeatures(degree=4)\n",
    "\n",
    "\n",
    "x_train_poly2=poly2.fit_transform(x_train)\n",
    "x_train_poly3=poly3.fit_transform(x_train)\n",
    "x_train_poly4=poly4.fit_transform(x_train)\n",
    "\n",
    "\n",
    "\n",
    "regr_poly2=linear_model.LinearRegression()\n",
    "regr_poly3=linear_model.LinearRegression()\n",
    "regr_poly4=linear_model.LinearRegression()\n",
    "\n",
    "regr_poly2.fit(x_train_poly2,y_train)\n",
    "regr_poly3.fit(x_train_poly3,y_train)\n",
    "regr_poly4.fit(x_train_poly4,y_train)\n",
    "\n",
    "print ('Coefficients Poly 2: ', regr_poly2.coef_)\n",
    "print ('Coefficients Poly 3: ', regr_poly3.coef_)\n",
    "print ('Coefficients Poly 4: ', regr_poly4.coef_)"
   ]
  },
  {
   "cell_type": "code",
   "execution_count": 17,
   "id": "d38c3d18",
   "metadata": {},
   "outputs": [
    {
     "name": "stdout",
     "output_type": "stream",
     "text": [
      "R2-score Poly 2: 0.80\n",
      "R2-score Poly 3: 0.74\n",
      "R2-score Poly 4: 0.69\n"
     ]
    }
   ],
   "source": [
    "x_test_poly2=poly2.fit_transform(x_test)\n",
    "x_test_poly3=poly3.fit_transform(x_test)\n",
    "x_test_poly4=poly4.fit_transform(x_test)\n",
    "\n",
    "\n",
    "y_predict_Poly2=regr_poly2.predict(x_test_poly2)\n",
    "y_predict_Poly3=regr_poly3.predict(x_test_poly3)\n",
    "y_predict_Poly4=regr_poly4.predict(x_test_poly4)\n",
    "\n",
    "#print(regPoly.coef_)\n",
    "print(\"R2-score Poly 2: %.2f\" % r2_score(y_test,y_predict_Poly2))\n",
    "print(\"R2-score Poly 3: %.2f\" % r2_score(y_test,y_predict_Poly3))\n",
    "print(\"R2-score Poly 4: %.2f\" % r2_score(y_test,y_predict_Poly4))"
   ]
  },
  {
   "cell_type": "code",
   "execution_count": 18,
   "id": "17d88331",
   "metadata": {},
   "outputs": [
    {
     "data": {
      "text/plain": [
       "['../Models/PolynomialFeatureDgree4Model.pkl']"
      ]
     },
     "execution_count": 18,
     "metadata": {},
     "output_type": "execute_result"
    }
   ],
   "source": [
    "joblib.dump(regr_poly2, '../Models/PolynomialFeatureDgree2Model.pkl')\n",
    "joblib.dump(regr_poly3, '../Models/PolynomialFeatureDgree3Model.pkl')\n",
    "joblib.dump(regr_poly4, '../Models/PolynomialFeatureDgree4Model.pkl')"
   ]
  },
  {
   "cell_type": "code",
   "execution_count": 22,
   "id": "2ee3305a",
   "metadata": {},
   "outputs": [],
   "source": [
    "df_raw=df=pd.read_csv(\"../Data/HouseImformation.csv\")"
   ]
  },
  {
   "cell_type": "code",
   "execution_count": 23,
   "id": "685cebad",
   "metadata": {},
   "outputs": [],
   "source": [
    "df_raw[\"Area\"]=df_raw[\"Area\"].str.replace(',','').astype(float)"
   ]
  },
  {
   "cell_type": "code",
   "execution_count": 32,
   "id": "cbd605b3",
   "metadata": {},
   "outputs": [
    {
     "name": "stderr",
     "output_type": "stream",
     "text": [
      "C:\\Users\\Abolfazl\\AppData\\Local\\Temp\\ipykernel_14408\\1159539982.py:2: SettingWithCopyWarning: \n",
      "A value is trying to be set on a copy of a slice from a DataFrame.\n",
      "Try using .loc[row_indexer,col_indexer] = value instead\n",
      "\n",
      "See the caveats in the documentation: https://pandas.pydata.org/pandas-docs/stable/user_guide/indexing.html#returning-a-view-versus-a-copy\n",
      "  df_raw['OuterData']=isoOuter.fit_predict(df_raw[[\"Area\", \"Price\"]])\n"
     ]
    }
   ],
   "source": [
    "isoOuter=IsolationForest(contamination=0.001)\n",
    "df_raw['OuterData']=isoOuter.fit_predict(df_raw[[\"Area\", \"Price\"]])\n",
    "\n",
    "df_raw=df_raw.dropna()"
   ]
  },
  {
   "cell_type": "code",
   "execution_count": 33,
   "id": "03a00a04",
   "metadata": {},
   "outputs": [],
   "source": [
    "MeanPriceAddressOuter=df_raw.groupby(\"Address\")[\"Price\"].mean()\n",
    "df_raw[\"MeanPriceA\"] = df_raw[\"Address\"].map(MeanPriceAddressOuter)"
   ]
  },
  {
   "cell_type": "code",
   "execution_count": 35,
   "id": "302ba0d3",
   "metadata": {},
   "outputs": [],
   "source": [
    "mask=np.random.rand(len(df_raw)) < 0.8\n",
    "train=df_raw[mask]\n",
    "test=df_raw[~mask]\n",
    "\n",
    "\n",
    "x_train=np.asanyarray(train[['Area','Room','Parking','Warehouse','Elevator','MeanPriceA']])\n",
    "y_train=np.asanyarray(train[['Price']])\n",
    "\n",
    "x_test=np.asanyarray(test[['Area','Room','Parking','Warehouse','Elevator','MeanPriceA']])\n",
    "y_test=np.asanyarray(test[['Price']])"
   ]
  },
  {
   "cell_type": "code",
   "execution_count": 36,
   "id": "334fdf05",
   "metadata": {},
   "outputs": [
    {
     "name": "stdout",
     "output_type": "stream",
     "text": [
      "Coefficients Poly 2:  [[ 8.45744151e-07  1.59404005e+00  9.32299748e-06 -5.58671286e-06\n",
      "  -4.08602159e-10 -1.13839330e-09  3.35550763e-01  4.10874342e-10\n",
      "  -3.38801512e+00  1.59406293e+00  1.59406293e+00  1.59406287e+00\n",
      "  -2.80195594e-10  7.65803169e-09  1.16873643e-09  1.37313944e-09\n",
      "   1.88791871e-10  5.32279711e-01 -6.07649332e-10 -7.84572370e-10\n",
      "  -1.32791289e-09 -1.63665129e-02 -4.08602577e-10 -1.35684497e-09\n",
      "  -2.50450409e-01 -1.13839481e-09 -5.99825865e-02 -2.77622746e-11]]\n",
      "R2-score Poly 2: 0.73\n"
     ]
    }
   ],
   "source": [
    "poly2=PolynomialFeatures(degree=2)\n",
    "\n",
    "x_train_poly2=poly2.fit_transform(x_train)\n",
    "\n",
    "regr_poly2=linear_model.LinearRegression()\n",
    "\n",
    "regr_poly2.fit(x_train_poly2,y_train)\n",
    "\n",
    "print ('Coefficients Poly 2: ', regr_poly2.coef_)\n",
    "\n",
    "\n",
    "x_test_poly2=poly2.fit_transform(x_test)\n",
    "\n",
    "y_predict_Poly2=regr_poly2.predict(x_test_poly2)\n",
    "\n",
    "print(\"R2-score Poly 2: %.2f\" % r2_score(y_test,y_predict_Poly2))"
   ]
  },
  {
   "cell_type": "code",
   "execution_count": 37,
   "id": "a4becbe9",
   "metadata": {},
   "outputs": [
    {
     "data": {
      "text/plain": [
       "['../Models/PolynomialFeatureDgree2RawDataModel.pkl']"
      ]
     },
     "execution_count": 37,
     "metadata": {},
     "output_type": "execute_result"
    }
   ],
   "source": [
    "joblib.dump(regr_poly2, '../Models/PolynomialFeatureDgree2RawDataModel.pkl')"
   ]
  },
  {
   "cell_type": "code",
   "execution_count": null,
   "id": "263ffe0d",
   "metadata": {},
   "outputs": [],
   "source": []
  }
 ],
 "metadata": {
  "kernelspec": {
   "display_name": "base",
   "language": "python",
   "name": "python3"
  },
  "language_info": {
   "codemirror_mode": {
    "name": "ipython",
    "version": 3
   },
   "file_extension": ".py",
   "mimetype": "text/x-python",
   "name": "python",
   "nbconvert_exporter": "python",
   "pygments_lexer": "ipython3",
   "version": "3.12.7"
  }
 },
 "nbformat": 4,
 "nbformat_minor": 5
}
