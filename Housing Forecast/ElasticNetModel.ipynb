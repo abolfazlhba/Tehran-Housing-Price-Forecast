{
 "cells": [
  {
   "cell_type": "code",
   "execution_count": 1,
   "id": "8a61f47e",
   "metadata": {},
   "outputs": [],
   "source": [
    "import matplotlib.pyplot as plt\n",
    "import pandas as pd\n",
    "import pylab as pl\n",
    "import numpy as np\n",
    "import seaborn as sns\n",
    "from sklearn.ensemble import IsolationForest\n",
    "from sklearn.preprocessing import PolynomialFeatures\n",
    "from sklearn.metrics import r2_score\n",
    "import joblib\n",
    "from sklearn.model_selection import GridSearchCV\n",
    "from sklearn.pipeline import Pipeline"
   ]
  },
  {
   "cell_type": "code",
   "execution_count": 2,
   "id": "8d504b1a",
   "metadata": {},
   "outputs": [],
   "source": [
    "df=pd.read_csv('../Data/HouseImformation.csv')"
   ]
  },
  {
   "cell_type": "code",
   "execution_count": 3,
   "id": "080fc986",
   "metadata": {},
   "outputs": [],
   "source": [
    "df['Area'] = df['Area'].str.replace(',', '').astype(float)\n",
    "\n",
    "df=df.dropna()\n",
    "\n",
    "isoOuter=IsolationForest(contamination=0.01)\n",
    "df['OuterData']=isoOuter.fit_predict(df[[\"Area\", \"Price\"]])\n",
    "\n",
    "df=df.drop(index=df[df['OuterData'] == -1].index)\n",
    "\n",
    "MeanPriceAddressOuter=df.groupby(\"Address\")[\"Price\"].mean()\n",
    "df[\"MeanPriceA\"] = df[\"Address\"].map(MeanPriceAddressOuter)"
   ]
  },
  {
   "cell_type": "code",
   "execution_count": 4,
   "id": "2d82bbf2",
   "metadata": {},
   "outputs": [],
   "source": [
    "from sklearn.preprocessing import StandardScaler\n",
    "\n",
    "scaler=StandardScaler()\n",
    "x_Data = scaler.fit_transform(df[['Area','Room','Parking','Warehouse','Elevator','MeanPriceA']])\n",
    "y_Data=df[['Price']].values\n"
   ]
  },
  {
   "cell_type": "code",
   "execution_count": 5,
   "id": "06cb7020",
   "metadata": {},
   "outputs": [],
   "source": [
    "mask= np.random.rand(len(df)) < 0.8\n",
    "\n",
    "train=df[mask]\n",
    "test=df[~mask]\n",
    "\n",
    "x_train=np.asanyarray(train[['Area','Room','Parking','Warehouse','Elevator','MeanPriceA']])\n",
    "y_train=np.asanyarray(train[['Price']])\n",
    "\n",
    "x_test=np.asanyarray(test[['Area','Room','Parking','Warehouse','Elevator','MeanPriceA']])\n",
    "y_test=np.asanyarray(test[['Price']])"
   ]
  },
  {
   "cell_type": "code",
   "execution_count": 6,
   "id": "1f7ac58d",
   "metadata": {},
   "outputs": [
    {
     "name": "stdout",
     "output_type": "stream",
     "text": [
      "Mean Is:  0.7304615076764296\n",
      "Standard deviation:  0.039239777429008166\n"
     ]
    }
   ],
   "source": [
    "from sklearn.model_selection import RepeatedKFold ,cross_val_score\n",
    "from sklearn.linear_model import ElasticNet\n",
    "model= ElasticNet(alpha=1.0,l1_ratio=0.8) # By testing different values, I found that 0.8 works best for l1_ratio But Standard deviation \n",
    "\n",
    "cv=RepeatedKFold(n_splits=10,n_repeats=3,random_state=1)\n",
    "\n",
    "cScore=cross_val_score(model,x_Data,y_Data,cv=cv)\n",
    "\n",
    "\n",
    "print(\"Mean Is: \",cScore.mean())\n",
    "print(\"Standard deviation: \", np.std(cScore))"
   ]
  },
  {
   "cell_type": "code",
   "execution_count": 7,
   "id": "3d48cca5",
   "metadata": {},
   "outputs": [
    {
     "name": "stdout",
     "output_type": "stream",
     "text": [
      "Test R2 Score: 0.78\n"
     ]
    }
   ],
   "source": [
    "model.fit(x_train,y_train)\n",
    "\n",
    "y_pred=model.predict(x_test)\n",
    "\n",
    "from sklearn.metrics import r2_score\n",
    "print(f\"Test R2 Score: {r2_score(y_test, y_pred):.2f}\")\n"
   ]
  },
  {
   "cell_type": "code",
   "execution_count": 8,
   "id": "232ae221",
   "metadata": {},
   "outputs": [
    {
     "data": {
      "text/plain": [
       "['../Models/ElasticNetModel']"
      ]
     },
     "execution_count": 8,
     "metadata": {},
     "output_type": "execute_result"
    }
   ],
   "source": [
    "joblib.dump(model,\"../Models/ElasticNetModel\")"
   ]
  },
  {
   "cell_type": "code",
   "execution_count": null,
   "id": "3641ed04",
   "metadata": {},
   "outputs": [
    {
     "name": "stdout",
     "output_type": "stream",
     "text": [
      "Test R2 Score: 0.74\n"
     ]
    },
    {
     "name": "stderr",
     "output_type": "stream",
     "text": [
      "c:\\Users\\Abolfazl\\anaconda3\\Lib\\site-packages\\sklearn\\linear_model\\_coordinate_descent.py:697: ConvergenceWarning: Objective did not converge. You might want to increase the number of iterations, check the scale of the features or consider increasing regularisation. Duality gap: 1.445e+22, tolerance: 1.105e+19\n",
      "  model = cd_fast.enet_coordinate_descent(\n"
     ]
    }
   ],
   "source": [
    "model05= ElasticNet(alpha=1.0,l1_ratio=0.5)\n",
    "\n",
    "model05.fit(x_train,y_train)\n",
    "\n",
    "y_pred=model05.predict(x_test)\n",
    "\n",
    "from sklearn.metrics import r2_score\n",
    "print(f\"Test R2 Score: {r2_score(y_test, y_pred):.2f}\")"
   ]
  },
  {
   "cell_type": "markdown",
   "id": "d734bafb",
   "metadata": {},
   "source": [
    "<h2>Elastic Net Model With Polynomial Features Model</h2>"
   ]
  },
  {
   "cell_type": "code",
   "execution_count": 14,
   "id": "96f8e508",
   "metadata": {},
   "outputs": [
    {
     "name": "stdout",
     "output_type": "stream",
     "text": [
      "Mean Is:  0.8169524862765452\n",
      "Standard deviation:  0.02470721760763163\n"
     ]
    }
   ],
   "source": [
    "pip=Pipeline([\n",
    "    ('scale',StandardScaler()),\n",
    "    ('poly',PolynomialFeatures(degree=2)),\n",
    "    ('elasticNet',ElasticNet(alpha=1.0,l1_ratio=0.8))\n",
    "])\n",
    "\n",
    "cvP=RepeatedKFold(n_splits=10,n_repeats=3,random_state=1)\n",
    "crossVal=cross_val_score(pip,x_Data,y_Data,cv=cvP)\n",
    "\n",
    "\n",
    "print(\"Mean Is: \",crossVal.mean())\n",
    "print(\"Standard deviation: \", np.std(crossVal))"
   ]
  },
  {
   "cell_type": "code",
   "execution_count": 15,
   "id": "06c11601",
   "metadata": {},
   "outputs": [
    {
     "name": "stdout",
     "output_type": "stream",
     "text": [
      "Test R2 Score: 0.83\n"
     ]
    }
   ],
   "source": [
    "pip.fit(x_train,y_train)\n",
    "\n",
    "y_predict=pip.predict(x_test)\n",
    "\n",
    "\n",
    "from sklearn.metrics import r2_score\n",
    "print(f\"Test R2 Score: {r2_score(y_test, y_predict):.2f}\")"
   ]
  },
  {
   "cell_type": "code",
   "execution_count": 16,
   "id": "4ac8009b",
   "metadata": {},
   "outputs": [
    {
     "data": {
      "text/plain": [
       "['../Models/ElasticNetModelWithPolynomialFeaturesModel']"
      ]
     },
     "execution_count": 16,
     "metadata": {},
     "output_type": "execute_result"
    }
   ],
   "source": [
    "joblib.dump(pip,\"../Models/ElasticNetModelWithPolynomialFeaturesModel\")"
   ]
  },
  {
   "cell_type": "code",
   "execution_count": null,
   "id": "0e222948",
   "metadata": {},
   "outputs": [],
   "source": []
  }
 ],
 "metadata": {
  "kernelspec": {
   "display_name": "base",
   "language": "python",
   "name": "python3"
  },
  "language_info": {
   "codemirror_mode": {
    "name": "ipython",
    "version": 3
   },
   "file_extension": ".py",
   "mimetype": "text/x-python",
   "name": "python",
   "nbconvert_exporter": "python",
   "pygments_lexer": "ipython3",
   "version": "3.12.7"
  }
 },
 "nbformat": 4,
 "nbformat_minor": 5
}
