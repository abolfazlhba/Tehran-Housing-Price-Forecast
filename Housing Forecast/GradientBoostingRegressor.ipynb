{
 "cells": [
  {
   "cell_type": "code",
   "execution_count": 47,
   "id": "47e2ef8e",
   "metadata": {},
   "outputs": [],
   "source": [
    "import matplotlib.pyplot as plt\n",
    "import pandas as pd\n",
    "import pylab as pl\n",
    "import numpy as np\n",
    "import seaborn as sns\n",
    "from sklearn.ensemble import IsolationForest\n",
    "from sklearn.preprocessing import PolynomialFeatures\n",
    "from sklearn.metrics import r2_score\n",
    "import joblib\n",
    "from sklearn.model_selection import GridSearchCV\n",
    "from sklearn.pipeline import Pipeline\n",
    "from sklearn.ensemble import RandomForestRegressor\n",
    "from sklearn.model_selection import RepeatedKFold ,cross_validate \n"
   ]
  },
  {
   "cell_type": "code",
   "execution_count": 2,
   "id": "4c21f010",
   "metadata": {},
   "outputs": [],
   "source": [
    "df=pd.read_csv('../Data/HouseImformation.csv')"
   ]
  },
  {
   "cell_type": "code",
   "execution_count": 3,
   "id": "59270358",
   "metadata": {},
   "outputs": [],
   "source": [
    "df['Area'] = df['Area'].str.replace(',', '').astype(float)\n",
    "\n",
    "df=df.dropna()\n",
    "\n",
    "isoOuter=IsolationForest(contamination=0.01)\n",
    "df['OuterData']=isoOuter.fit_predict(df[[\"Area\", \"Price\"]])\n",
    "\n",
    "df=df.drop(index=df[df['OuterData'] == -1].index)\n",
    "\n",
    "MeanPriceAddressOuter=df.groupby(\"Address\")[\"Price\"].mean()\n",
    "df[\"MeanPriceA\"] = df[\"Address\"].map(MeanPriceAddressOuter)"
   ]
  },
  {
   "cell_type": "code",
   "execution_count": 4,
   "id": "51cc21f7",
   "metadata": {},
   "outputs": [],
   "source": [
    "from sklearn.preprocessing import StandardScaler\n",
    "\n",
    "scaler=StandardScaler()\n",
    "x_Data = scaler.fit_transform(df[['Area','Room','Parking','Warehouse','Elevator','MeanPriceA']])\n",
    "y_Data=df['Price'].values\n"
   ]
  },
  {
   "cell_type": "code",
   "execution_count": 5,
   "id": "d9b1b4e6",
   "metadata": {},
   "outputs": [],
   "source": [
    "mask= np.random.rand(len(df)) < 0.8\n",
    "\n",
    "train=df[mask]\n",
    "test=df[~mask]\n",
    "\n",
    "x_train=np.asanyarray(train[['Area','Room','Parking','Warehouse','Elevator','MeanPriceA']])\n",
    "y_train=np.asanyarray(train['Price'])\n",
    "\n",
    "x_test=np.asanyarray(test[['Area','Room','Parking','Warehouse','Elevator','MeanPriceA']])\n",
    "y_test=np.asanyarray(test['Price'])"
   ]
  },
  {
   "cell_type": "code",
   "execution_count": 48,
   "id": "8d2e13f6",
   "metadata": {},
   "outputs": [
    {
     "name": "stdout",
     "output_type": "stream",
     "text": [
      "Train Scores: [0.92951603 0.92632596 0.92202063 0.92612765 0.92529125 0.92915093\n",
      " 0.92809438 0.9264081  0.92818131 0.92647016 0.92426066 0.92971121\n",
      " 0.92521329 0.92714838 0.93261821 0.92200541 0.92905881 0.92893995\n",
      " 0.92984437 0.9239857  0.92615681 0.93170055 0.9227597  0.92658673\n",
      " 0.92891003 0.93132689 0.92734928 0.92737395 0.92859336 0.9280687 ]\n",
      "Mean Train Score: 0.9273066126287012\n",
      "Test Scores: [0.85453865 0.85403502 0.88573456 0.88702383 0.86466631 0.86835604\n",
      " 0.85044709 0.88587979 0.84783246 0.84887048 0.88878621 0.86772284\n",
      " 0.87748533 0.85577123 0.86555716 0.91433245 0.86913065 0.79890326\n",
      " 0.84107673 0.86989297 0.85747314 0.83301866 0.87717342 0.88059083\n",
      " 0.85712783 0.81297376 0.90843436 0.87244213 0.88396709 0.85901559]\n",
      "Mean Test Score: 0.8646086627965855\n"
     ]
    }
   ],
   "source": [
    "from sklearn.ensemble import GradientBoostingRegressor\n",
    "\n",
    "##If I Increase learning rate Mean=>Decrease\n",
    "#for n_estimators 150 is the Best Mean And Standard deviation\n",
    "model=GradientBoostingRegressor(n_estimators=150,max_depth=3,learning_rate=0.1)\n",
    "\n",
    "cv=RepeatedKFold(n_splits=10,n_repeats=3,random_state=1)\n",
    "\n",
    "CrossVal=cross_validate(model,x_Data,y_Data,cv=cv,scoring='r2',return_train_score=True)\n",
    "\n",
    "print(\"Train Scores:\", CrossVal['train_score'])\n",
    "print(\"Mean Train Score:\", CrossVal['train_score'].mean())\n",
    "\n",
    "print(\"Test Scores:\", CrossVal['test_score'])\n",
    "print(\"Mean Test Score:\", CrossVal['test_score'].mean())\n",
    "\n",
    "\n"
   ]
  },
  {
   "cell_type": "code",
   "execution_count": 41,
   "id": "6972b524",
   "metadata": {},
   "outputs": [
    {
     "name": "stdout",
     "output_type": "stream",
     "text": [
      "Test R2 Score: 0.89\n",
      "Train R2 Score: 0.92\n"
     ]
    }
   ],
   "source": [
    "modelFit=GradientBoostingRegressor(n_estimators=100,max_depth=3,learning_rate=0.1)\n",
    "\n",
    "\n",
    "modelFit.fit(x_train,y_train)\n",
    "\n",
    "y_predict=modelFit.predict(x_test)\n",
    "y_train_predict=modelFit.predict(x_train)\n",
    "\n",
    "from sklearn.metrics import r2_score\n",
    "print(f\"Test R2 Score: {r2_score(y_test, y_predict):.2f}\")\n",
    "print(f\"Train R2 Score: {r2_score(y_train, y_train_predict):.2f}\")"
   ]
  },
  {
   "cell_type": "code",
   "execution_count": 49,
   "id": "873a74db",
   "metadata": {},
   "outputs": [
    {
     "data": {
      "image/png": "[encoded data removed]",
      "text/plain": [
       "<Figure size 640x480 with 1 Axes>"
      ]
     },
     "metadata": {},
     "output_type": "display_data"
    }
   ],
   "source": [
    "residuals = y_test - y_predict\n",
    "plt.scatter(y_predict, residuals)\n",
    "plt.axhline(y=0, color='r', linestyle='--')\n",
    "plt.xlabel(\"Predicted\")\n",
    "plt.ylabel(\"Residual\")\n",
    "plt.show()"
   ]
  },
  {
   "cell_type": "code",
   "execution_count": 51,
   "id": "83d4def3",
   "metadata": {},
   "outputs": [
    {
     "name": "stdout",
     "output_type": "stream",
     "text": [
      "MAE: 956499068.3028767\n"
     ]
    }
   ],
   "source": [
    "from sklearn.metrics import mean_absolute_error\n",
    "\n",
    "print(\"MAE:\", mean_absolute_error(y_test, y_predict))"
   ]
  },
  {
   "cell_type": "code",
   "execution_count": null,
   "id": "25226700",
   "metadata": {},
   "outputs": [],
   "source": []
  }
 ],
 "metadata": {
  "kernelspec": {
   "display_name": "base",
   "language": "python",
   "name": "python3"
  },
  "language_info": {
   "codemirror_mode": {
    "name": "ipython",
    "version": 3
   },
   "file_extension": ".py",
   "mimetype": "text/x-python",
   "name": "python",
   "nbconvert_exporter": "python",
   "pygments_lexer": "ipython3",
   "version": "3.12.7"
  }
 },
 "nbformat": 4,
 "nbformat_minor": 5
}
