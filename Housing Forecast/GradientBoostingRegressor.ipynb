{
 "cells": [
  {
   "cell_type": "code",
   "execution_count": 1,
   "id": "47e2ef8e",
   "metadata": {},
   "outputs": [],
   "source": [
    "import matplotlib.pyplot as plt\n",
    "import pandas as pd\n",
    "import pylab as pl\n",
    "import numpy as np\n",
    "import seaborn as sns\n",
    "from sklearn.ensemble import IsolationForest\n",
    "from sklearn.preprocessing import PolynomialFeatures\n",
    "from sklearn.metrics import r2_score\n",
    "import joblib\n",
    "from sklearn.model_selection import GridSearchCV\n",
    "from sklearn.pipeline import Pipeline\n",
    "from sklearn.ensemble import RandomForestRegressor\n",
    "from sklearn.model_selection import RepeatedKFold ,cross_validate \n"
   ]
  },
  {
   "cell_type": "code",
   "execution_count": 2,
   "id": "4c21f010",
   "metadata": {},
   "outputs": [],
   "source": [
    "df=pd.read_csv('../Data/HouseImformation.csv')"
   ]
  },
  {
   "cell_type": "code",
   "execution_count": 3,
   "id": "59270358",
   "metadata": {},
   "outputs": [],
   "source": [
    "df['Area'] = df['Area'].str.replace(',', '').astype(float)\n",
    "\n",
    "df=df.dropna()\n",
    "\n",
    "isoOuter=IsolationForest(contamination=0.01)\n",
    "df['OuterData']=isoOuter.fit_predict(df[[\"Area\", \"Price\"]])\n",
    "\n",
    "df=df.drop(index=df[df['OuterData'] == -1].index)\n",
    "\n",
    "MeanPriceAddressOuter=df.groupby(\"Address\")[\"Price\"].mean()\n",
    "df[\"MeanPriceA\"] = df[\"Address\"].map(MeanPriceAddressOuter)"
   ]
  },
  {
   "cell_type": "code",
   "execution_count": 4,
   "id": "51cc21f7",
   "metadata": {},
   "outputs": [],
   "source": [
    "from sklearn.preprocessing import StandardScaler\n",
    "\n",
    "scaler=StandardScaler()\n",
    "x_Data = scaler.fit_transform(df[['Area','Room','Parking','Warehouse','Elevator','MeanPriceA']])\n",
    "y_Data=df['Price'].values\n"
   ]
  },
  {
   "cell_type": "code",
   "execution_count": 5,
   "id": "d9b1b4e6",
   "metadata": {},
   "outputs": [],
   "source": [
    "mask= np.random.rand(len(df)) < 0.8\n",
    "\n",
    "train=df[mask]\n",
    "test=df[~mask]\n",
    "\n",
    "x_train=np.asanyarray(train[['Area','Room','Parking','Warehouse','Elevator','MeanPriceA']])\n",
    "y_train=np.asanyarray(train['Price'])\n",
    "\n",
    "x_test=np.asanyarray(test[['Area','Room','Parking','Warehouse','Elevator','MeanPriceA']])\n",
    "y_test=np.asanyarray(test['Price'])"
   ]
  },
  {
   "cell_type": "code",
   "execution_count": 6,
   "id": "8d2e13f6",
   "metadata": {},
   "outputs": [
    {
     "name": "stdout",
     "output_type": "stream",
     "text": [
      "Train Scores: [0.92013002 0.92621088 0.92557013 0.92374474 0.92475478 0.92731516\n",
      " 0.92639626 0.92216874 0.92216551 0.92284543 0.91962525 0.92689109\n",
      " 0.92332188 0.92573911 0.92854481 0.91811168 0.92453274 0.92288761\n",
      " 0.92193294 0.92187347 0.922255   0.92726373 0.91980082 0.91765194\n",
      " 0.92342191 0.92930512 0.9196822  0.92649338 0.92288521 0.92716798]\n",
      "Mean Train Score: 0.9236896511876105\n",
      "Test Scores: [0.89104092 0.86518895 0.85441316 0.86398529 0.87494867 0.82398069\n",
      " 0.82691969 0.89321778 0.8543333  0.85663639 0.86925102 0.86336524\n",
      " 0.86755817 0.83048453 0.85619332 0.91465185 0.81309853 0.82434437\n",
      " 0.87564189 0.85925027 0.8332139  0.80987754 0.88252621 0.88959782\n",
      " 0.86623116 0.78296724 0.91231232 0.8522323  0.88162595 0.87095554]\n",
      "Mean Test Score: 0.8586681341139784\n"
     ]
    }
   ],
   "source": [
    "from sklearn.ensemble import GradientBoostingRegressor\n",
    "\n",
    "##If I Increase learning rate Mean=>Decrease\n",
    "#for n_estimators 150 is the Best Mean And Standard deviation\n",
    "model=GradientBoostingRegressor(n_estimators=150,max_depth=3,learning_rate=0.1)\n",
    "\n",
    "cv=RepeatedKFold(n_splits=10,n_repeats=3,random_state=1)\n",
    "\n",
    "CrossVal=cross_validate(model,x_Data,y_Data,cv=cv,scoring='r2',return_train_score=True)\n",
    "\n",
    "print(\"Train Scores:\", CrossVal['train_score'])\n",
    "print(\"Mean Train Score:\", CrossVal['train_score'].mean())\n",
    "\n",
    "print(\"Test Scores:\", CrossVal['test_score'])\n",
    "print(\"Mean Test Score:\", CrossVal['test_score'].mean())\n",
    "\n",
    "\n"
   ]
  },
  {
   "cell_type": "code",
   "execution_count": 7,
   "id": "6972b524",
   "metadata": {},
   "outputs": [
    {
     "name": "stdout",
     "output_type": "stream",
     "text": [
      "Test R2 Score: 0.84\n",
      "Train R2 Score: 0.92\n"
     ]
    }
   ],
   "source": [
    "modelFit=GradientBoostingRegressor(n_estimators=100,max_depth=3,learning_rate=0.1)\n",
    "\n",
    "\n",
    "modelFit.fit(x_train,y_train)\n",
    "\n",
    "y_predict=modelFit.predict(x_test)\n",
    "y_train_predict=modelFit.predict(x_train)\n",
    "\n",
    "from sklearn.metrics import r2_score\n",
    "print(f\"Test R2 Score: {r2_score(y_test, y_predict):.2f}\")\n",
    "print(f\"Train R2 Score: {r2_score(y_train, y_train_predict):.2f}\")"
   ]
  },
  {
   "cell_type": "code",
   "execution_count": 8,
   "id": "873a74db",
   "metadata": {},
   "outputs": [
    {
     "data": {
      "image/png": "[encoded data removed]",
      "text/plain": [
       "<Figure size 640x480 with 1 Axes>"
      ]
     },
     "metadata": {},
     "output_type": "display_data"
    }
   ],
   "source": [
    "residuals = y_test - y_predict\n",
    "plt.scatter(y_predict, residuals)\n",
    "plt.axhline(y=0, color='r', linestyle='--')\n",
    "plt.xlabel(\"Predicted\")\n",
    "plt.ylabel(\"Residual\")\n",
    "plt.show()"
   ]
  },
  {
   "cell_type": "code",
   "execution_count": 9,
   "id": "83d4def3",
   "metadata": {},
   "outputs": [
    {
     "name": "stdout",
     "output_type": "stream",
     "text": [
      "MAE: 1079662165.4168005\n"
     ]
    }
   ],
   "source": [
    "from sklearn.metrics import mean_absolute_error\n",
    "\n",
    "print(\"MAE:\", mean_absolute_error(y_test, y_predict))"
   ]
  },
  {
   "cell_type": "code",
   "execution_count": 10,
   "id": "25226700",
   "metadata": {},
   "outputs": [],
   "source": [
    "isoOuter10=IsolationForest(contamination=0.1)\n",
    "df['OuterData10']=isoOuter10.fit_predict(df[[\"Area\", \"Price\"]])\n",
    "\n",
    "df=df.drop(index=df[df['OuterData10'] == -1].index)"
   ]
  },
  {
   "cell_type": "code",
   "execution_count": 11,
   "id": "1b82363f",
   "metadata": {},
   "outputs": [],
   "source": [
    "from sklearn.preprocessing import StandardScaler\n",
    "\n",
    "scaler=StandardScaler()\n",
    "x_Data = scaler.fit_transform(df[['Area','Room','Parking','Warehouse','Elevator','MeanPriceA']])\n",
    "y_Data=df['Price'].values"
   ]
  },
  {
   "cell_type": "code",
   "execution_count": 12,
   "id": "bdf259da",
   "metadata": {},
   "outputs": [],
   "source": [
    "mask= np.random.rand(len(df)) < 0.8\n",
    "\n",
    "train=df[mask]\n",
    "test=df[~mask]\n",
    "\n",
    "x_train=np.asanyarray(train[['Area','Room','Parking','Warehouse','Elevator','MeanPriceA']])\n",
    "y_train=np.asanyarray(train['Price'])\n",
    "\n",
    "x_test=np.asanyarray(test[['Area','Room','Parking','Warehouse','Elevator','MeanPriceA']])\n",
    "y_test=np.asanyarray(test['Price'])"
   ]
  },
  {
   "cell_type": "code",
   "execution_count": 13,
   "id": "de3f1191",
   "metadata": {},
   "outputs": [
    {
     "name": "stdout",
     "output_type": "stream",
     "text": [
      "Train Scores: [0.92087818 0.92054786 0.91855236 0.9208255  0.91686692 0.92013078\n",
      " 0.91862874 0.92493638 0.92049216 0.92052346 0.92201424 0.92211478\n",
      " 0.92465767 0.91928773 0.91899141 0.91844135 0.91838709 0.92018494\n",
      " 0.91891736 0.91708184 0.92097508 0.92117285 0.92014041 0.91977981\n",
      " 0.91942531 0.92067704 0.91926689 0.92053659 0.92228082 0.91841023]\n",
      "Mean Train Score: 0.9201708596817159\n",
      "Test Scores: [0.88146601 0.88699821 0.89752417 0.88403161 0.92315286 0.89233256\n",
      " 0.91746858 0.85068265 0.89942056 0.88689304 0.87453164 0.86517192\n",
      " 0.83932907 0.90122563 0.90701145 0.89877363 0.90909521 0.88511096\n",
      " 0.89796111 0.91441783 0.87876805 0.87789649 0.8967222  0.90109861\n",
      " 0.8992469  0.88489103 0.90525276 0.89615644 0.85405225 0.90192019]\n",
      "Mean Test Score: 0.8902867876286866\n"
     ]
    }
   ],
   "source": [
    "from sklearn.ensemble import GradientBoostingRegressor\n",
    "\n",
    "##If I Increase learning rate Mean=>Decrease\n",
    "#for n_estimators 150 is the Best Mean And Standard deviation\n",
    "model=GradientBoostingRegressor(n_estimators=150,max_depth=3,learning_rate=0.1)\n",
    "\n",
    "cv=RepeatedKFold(n_splits=10,n_repeats=3,random_state=1)\n",
    "\n",
    "CrossVal=cross_validate(model,x_Data,y_Data,cv=cv,scoring='r2',return_train_score=True)\n",
    "\n",
    "print(\"Train Scores:\", CrossVal['train_score'])\n",
    "print(\"Mean Train Score:\", CrossVal['train_score'].mean())\n",
    "\n",
    "print(\"Test Scores:\", CrossVal['test_score'])\n",
    "print(\"Mean Test Score:\", CrossVal['test_score'].mean())\n"
   ]
  },
  {
   "cell_type": "code",
   "execution_count": 14,
   "id": "00952706",
   "metadata": {},
   "outputs": [
    {
     "name": "stdout",
     "output_type": "stream",
     "text": [
      "Test R2 Score: 0.89\n",
      "Train R2 Score: 0.91\n"
     ]
    }
   ],
   "source": [
    "modelFit=GradientBoostingRegressor(n_estimators=100,max_depth=3,learning_rate=0.1)\n",
    "\n",
    "\n",
    "modelFit.fit(x_train,y_train)\n",
    "\n",
    "y_predict=modelFit.predict(x_test)\n",
    "y_train_predict=modelFit.predict(x_train)\n",
    "\n",
    "from sklearn.metrics import r2_score\n",
    "print(f\"Test R2 Score: {r2_score(y_test, y_predict):.2f}\")\n",
    "print(f\"Train R2 Score: {r2_score(y_train, y_train_predict):.2f}\")"
   ]
  },
  {
   "cell_type": "code",
   "execution_count": 15,
   "id": "03b00251",
   "metadata": {},
   "outputs": [
    {
     "data": {
      "image/png": "[encoded data removed]",
      "text/plain": [
       "<Figure size 640x480 with 1 Axes>"
      ]
     },
     "metadata": {},
     "output_type": "display_data"
    }
   ],
   "source": [
    "residuals = y_test - y_predict\n",
    "plt.scatter(y_predict, residuals)\n",
    "plt.axhline(y=0, color='r', linestyle='--')\n",
    "plt.xlabel(\"Predicted\")\n",
    "plt.ylabel(\"Residual\")\n",
    "plt.show()"
   ]
  },
  {
   "cell_type": "code",
   "execution_count": 16,
   "id": "ea3bf223",
   "metadata": {},
   "outputs": [
    {
     "name": "stdout",
     "output_type": "stream",
     "text": [
      "MAE: 575572515.8867165\n"
     ]
    }
   ],
   "source": [
    "from sklearn.metrics import mean_absolute_error\n",
    "\n",
    "print(\"MAE:\", mean_absolute_error(y_test, y_predict))"
   ]
  },
  {
   "cell_type": "code",
   "execution_count": null,
   "id": "d4ff0eff",
   "metadata": {},
   "outputs": [],
   "source": []
  }
 ],
 "metadata": {
  "kernelspec": {
   "display_name": "base",
   "language": "python",
   "name": "python3"
  },
  "language_info": {
   "codemirror_mode": {
    "name": "ipython",
    "version": 3
   },
   "file_extension": ".py",
   "mimetype": "text/x-python",
   "name": "python",
   "nbconvert_exporter": "python",
   "pygments_lexer": "ipython3",
   "version": "3.12.7"
  }
 },
 "nbformat": 4,
 "nbformat_minor": 5
}
