{
 "cells": [
  {
   "cell_type": "code",
   "execution_count": 1,
   "id": "47e2ef8e",
   "metadata": {},
   "outputs": [],
   "source": [
    "import matplotlib.pyplot as plt\n",
    "import pandas as pd\n",
    "import pylab as pl\n",
    "import numpy as np\n",
    "import seaborn as sns\n",
    "from sklearn.ensemble import IsolationForest\n",
    "from sklearn.preprocessing import PolynomialFeatures\n",
    "from sklearn.metrics import r2_score\n",
    "import joblib\n",
    "from sklearn.model_selection import GridSearchCV\n",
    "from sklearn.pipeline import Pipeline\n",
    "from sklearn.ensemble import RandomForestRegressor\n",
    "from sklearn.model_selection import RepeatedKFold ,cross_validate\n"
   ]
  },
  {
   "cell_type": "code",
   "execution_count": 2,
   "id": "4c21f010",
   "metadata": {},
   "outputs": [],
   "source": [
    "df=pd.read_csv('../Data/HouseImformation.csv')"
   ]
  },
  {
   "cell_type": "code",
   "execution_count": 3,
   "id": "59270358",
   "metadata": {},
   "outputs": [],
   "source": [
    "df['Area'] = df['Area'].str.replace(',', '').astype(float)\n",
    "\n",
    "df=df.dropna()\n",
    "\n",
    "isoOuter=IsolationForest(contamination=0.01)\n",
    "df['OuterData']=isoOuter.fit_predict(df[[\"Area\", \"Price\"]])\n",
    "\n",
    "df=df.drop(index=df[df['OuterData'] == -1].index)\n",
    "\n",
    "MeanPriceAddressOuter=df.groupby(\"Address\")[\"Price\"].mean()\n",
    "df[\"MeanPriceA\"] = df[\"Address\"].map(MeanPriceAddressOuter)"
   ]
  },
  {
   "cell_type": "code",
   "execution_count": 4,
   "id": "51cc21f7",
   "metadata": {},
   "outputs": [],
   "source": [
    "from sklearn.preprocessing import StandardScaler\n",
    "\n",
    "scaler=StandardScaler()\n",
    "x_Data = scaler.fit_transform(df[['Area','Room','Parking','Warehouse','Elevator','MeanPriceA']])\n",
    "y_Data=df['Price'].values\n"
   ]
  },
  {
   "cell_type": "code",
   "execution_count": 5,
   "id": "d9b1b4e6",
   "metadata": {},
   "outputs": [],
   "source": [
    "mask= np.random.rand(len(df)) < 0.8\n",
    "\n",
    "train=df[mask]\n",
    "test=df[~mask]\n",
    "\n",
    "x_train=np.asanyarray(train[['Area','Room','Parking','Warehouse','Elevator','MeanPriceA']])\n",
    "y_train=np.asanyarray(train['Price'])\n",
    "\n",
    "x_test=np.asanyarray(test[['Area','Room','Parking','Warehouse','Elevator','MeanPriceA']])\n",
    "y_test=np.asanyarray(test['Price'])"
   ]
  },
  {
   "cell_type": "code",
   "execution_count": 6,
   "id": "8d2e13f6",
   "metadata": {},
   "outputs": [
    {
     "name": "stdout",
     "output_type": "stream",
     "text": [
      "Train Scores: [0.92503832 0.92155014 0.9275239  0.92532266 0.92615945 0.92818292\n",
      " 0.92720826 0.92604302 0.92427269 0.92504705 0.92460833 0.9276184\n",
      " 0.92427314 0.92511383 0.92554122 0.92281334 0.92530522 0.92793946\n",
      " 0.92524961 0.9220807  0.91804594 0.9274897  0.92526509 0.92230127\n",
      " 0.92688312 0.92662993 0.92430124 0.92932868 0.92521473 0.92661383]\n",
      "Mean Train Score: 0.92529884020238\n",
      "Test Scores: [0.84677246 0.87984441 0.81681065 0.86798604 0.88259954 0.84989013\n",
      " 0.86483128 0.86493683 0.86585579 0.89315684 0.85741093 0.83845963\n",
      " 0.87920233 0.86913133 0.86335107 0.87025039 0.8625196  0.84214449\n",
      " 0.82926613 0.91809566 0.92346906 0.85349934 0.84374538 0.86724244\n",
      " 0.87644846 0.88842451 0.89125425 0.82306691 0.89362732 0.83729927]\n",
      "Mean Test Score: 0.8653530815422794\n"
     ]
    }
   ],
   "source": [
    "from sklearn.ensemble import GradientBoostingRegressor\n",
    "\n",
    "##If I Increase learning rate Mean=>Decrease\n",
    "#for n_estimators 150 is the Best Mean And Standard deviation\n",
    "model=GradientBoostingRegressor(n_estimators=150,max_depth=3,learning_rate=0.1)\n",
    "\n",
    "cv=RepeatedKFold(n_splits=10,n_repeats=3,random_state=1)\n",
    "\n",
    "CrossVal=cross_validate(model,x_Data,y_Data,cv=cv,scoring='r2',return_train_score=True)\n",
    "\n",
    "print(\"Train Scores:\", CrossVal['train_score'])\n",
    "print(\"Mean Train Score:\", CrossVal['train_score'].mean())\n",
    "\n",
    "print(\"Test Scores:\", CrossVal['test_score'])\n",
    "print(\"Mean Test Score:\", CrossVal['test_score'].mean())\n",
    "\n",
    "\n"
   ]
  },
  {
   "cell_type": "code",
   "execution_count": 7,
   "id": "6972b524",
   "metadata": {},
   "outputs": [
    {
     "name": "stdout",
     "output_type": "stream",
     "text": [
      "Test R2 Score: 0.85\n",
      "Train R2 Score: 0.92\n"
     ]
    }
   ],
   "source": [
    "modelFit=GradientBoostingRegressor(n_estimators=100,max_depth=3,learning_rate=0.1)\n",
    "\n",
    "\n",
    "modelFit.fit(x_train,y_train)\n",
    "\n",
    "y_predict=modelFit.predict(x_test)\n",
    "y_train_predict=modelFit.predict(x_train)\n",
    "\n",
    "from sklearn.metrics import r2_score\n",
    "print(f\"Test R2 Score: {r2_score(y_test, y_predict):.2f}\")\n",
    "print(f\"Train R2 Score: {r2_score(y_train, y_train_predict):.2f}\")"
   ]
  },
  {
   "cell_type": "code",
   "execution_count": 8,
   "id": "3c7b305f",
   "metadata": {},
   "outputs": [
    {
     "data": {
      "text/plain": [
       "['../Models/GradientBoostingRegressorModel.pkl']"
      ]
     },
     "execution_count": 8,
     "metadata": {},
     "output_type": "execute_result"
    }
   ],
   "source": [
    "joblib.dump(modelFit, '../Models/GradientBoostingRegressorModel.pkl')"
   ]
  },
  {
   "cell_type": "code",
   "execution_count": 8,
   "id": "873a74db",
   "metadata": {},
   "outputs": [
    {
     "data": {
      "image/png": "[encoded data removed]",
      "text/plain": [
       "<Figure size 640x480 with 1 Axes>"
      ]
     },
     "metadata": {},
     "output_type": "display_data"
    }
   ],
   "source": [
    "residuals = y_test - y_predict\n",
    "plt.scatter(y_predict, residuals)\n",
    "plt.axhline(y=0, color='r', linestyle='--')\n",
    "plt.xlabel(\"Predicted\")\n",
    "plt.ylabel(\"Residual\")\n",
    "plt.show()"
   ]
  },
  {
   "cell_type": "code",
   "execution_count": 9,
   "id": "83d4def3",
   "metadata": {},
   "outputs": [
    {
     "name": "stdout",
     "output_type": "stream",
     "text": [
      "MAE: 1129464944.5732625\n"
     ]
    }
   ],
   "source": [
    "from sklearn.metrics import mean_absolute_error\n",
    "\n",
    "print(\"MAE:\", mean_absolute_error(y_test, y_predict))"
   ]
  },
  {
   "cell_type": "code",
   "execution_count": null,
   "id": "20c58a45",
   "metadata": {},
   "outputs": [
    {
     "name": "stdout",
     "output_type": "stream",
     "text": [
      "Train Scores: [0.93277794 0.9329019  0.93240781 0.93563028 0.93351836 0.93413652\n",
      " 0.93321909 0.92881264 0.92978165 0.93187258 0.93212586 0.93238631\n",
      " 0.9313046  0.93446715 0.93242878 0.9315945  0.9315516  0.93361068\n",
      " 0.93359657 0.93135385 0.928399   0.93715235 0.93637031 0.92913803\n",
      " 0.93115145 0.93062249 0.93334423 0.93425497 0.93143606 0.93206816]\n",
      "Mean Train Score: 0.9324471914161376\n",
      "Test Scores: [0.83732659 0.8683577  0.82715442 0.85076368 0.86843516 0.85647043\n",
      " 0.88064812 0.87391583 0.87695253 0.89185457 0.8736029  0.82823366\n",
      " 0.89845251 0.84966572 0.85028709 0.8868832  0.87265077 0.85605244\n",
      " 0.83120444 0.89237208 0.92635622 0.84107317 0.82832672 0.86168733\n",
      " 0.87934557 0.89491188 0.89464345 0.83938388 0.87951587 0.88063267]\n",
      "Mean Test Score: 0.866572019682707\n"
     ]
    }
   ],
   "source": [
    "from sklearn.linear_model import ElasticNet\n",
    "\n",
    "pip=Pipeline([\n",
    "    ('scale',StandardScaler()),\n",
    "    ('poly',PolynomialFeatures(degree=2)),\n",
    "    ('GradientBoostingRegressor',GradientBoostingRegressor(n_estimators=100,max_depth=3,learning_rate=0.1))\n",
    "])\n",
    "cvpip=RepeatedKFold(n_splits=10,n_repeats=3,random_state=1)\n",
    "\n",
    "CrossValpip=cross_validate(pip,x_Data,y_Data,cv=cvpip,scoring='r2',return_train_score=True)\n",
    "\n",
    "print(\"Mean Train Score:\", CrossValpip['train_score'].mean())\n",
    "\n",
    "print(\"Mean Test Score:\", CrossValpip['test_score'].mean())\n"
   ]
  },
  {
   "cell_type": "code",
   "execution_count": 11,
   "id": "901f9213",
   "metadata": {},
   "outputs": [
    {
     "name": "stdout",
     "output_type": "stream",
     "text": [
      "Test R2 Score: 0.83\n",
      "Train R2 Score: 0.94\n"
     ]
    }
   ],
   "source": [
    "pip.fit(x_train,y_train)\n",
    "\n",
    "y_predict=pip.predict(x_test)\n",
    "y_train_predict=pip.predict(x_train)\n",
    "\n",
    "from sklearn.metrics import r2_score\n",
    "print(f\"Test R2 Score: {r2_score(y_test, y_predict):.2f}\")\n",
    "print(f\"Train R2 Score: {r2_score(y_train, y_train_predict):.2f}\")"
   ]
  },
  {
   "cell_type": "code",
   "execution_count": 12,
   "id": "88a6b1cf",
   "metadata": {},
   "outputs": [
    {
     "data": {
      "text/plain": [
       "['../Models/GradientBoostingRegressorWithPolynomialFeaturesModel.pkl']"
      ]
     },
     "execution_count": 12,
     "metadata": {},
     "output_type": "execute_result"
    }
   ],
   "source": [
    "joblib.dump(pip, '../Models/GradientBoostingRegressorWithPolynomialFeaturesModel.pkl')"
   ]
  },
  {
   "cell_type": "code",
   "execution_count": 14,
   "id": "2b8e08a0",
   "metadata": {},
   "outputs": [
    {
     "data": {
      "image/png": "[encoded data removed]",
      "text/plain": [
       "<Figure size 640x480 with 1 Axes>"
      ]
     },
     "metadata": {},
     "output_type": "display_data"
    },
    {
     "name": "stdout",
     "output_type": "stream",
     "text": [
      "MAE: 1012925841.9239452\n"
     ]
    }
   ],
   "source": [
    "residuals = y_test - y_predict\n",
    "plt.scatter(y_predict, residuals)\n",
    "plt.axhline(y=0, color='r', linestyle='--')\n",
    "plt.xlabel(\"Predicted\")\n",
    "plt.ylabel(\"Residual\")\n",
    "plt.show()\n",
    "\n",
    "from sklearn.metrics import mean_absolute_error\n",
    "\n",
    "print(\"MAE:\", mean_absolute_error(y_test, y_predict))"
   ]
  },
  {
   "cell_type": "markdown",
   "id": "200a2822",
   "metadata": {},
   "source": [
    "<h3>By removing ~10% of samples detected as outliers using Isolation Forest, the MAE dropped significantly from ~1 billion IRR to ~575 million IRR in Gradient Boosting Regression.</h3>"
   ]
  },
  {
   "cell_type": "code",
   "execution_count": 10,
   "id": "25226700",
   "metadata": {},
   "outputs": [],
   "source": [
    "isoOuter10=IsolationForest(contamination=0.1)\n",
    "df['OuterData10']=isoOuter10.fit_predict(df[[\"Area\", \"Price\"]])\n",
    "\n",
    "df=df.drop(index=df[df['OuterData10'] == -1].index)"
   ]
  },
  {
   "cell_type": "code",
   "execution_count": 11,
   "id": "1b82363f",
   "metadata": {},
   "outputs": [],
   "source": [
    "from sklearn.preprocessing import StandardScaler\n",
    "\n",
    "scaler=StandardScaler()\n",
    "x_Data = scaler.fit_transform(df[['Area','Room','Parking','Warehouse','Elevator','MeanPriceA']])\n",
    "y_Data=df['Price'].values"
   ]
  },
  {
   "cell_type": "code",
   "execution_count": 12,
   "id": "bdf259da",
   "metadata": {},
   "outputs": [],
   "source": [
    "mask= np.random.rand(len(df)) < 0.8\n",
    "\n",
    "train=df[mask]\n",
    "test=df[~mask]\n",
    "\n",
    "x_train=np.asanyarray(train[['Area','Room','Parking','Warehouse','Elevator','MeanPriceA']])\n",
    "y_train=np.asanyarray(train['Price'])\n",
    "\n",
    "x_test=np.asanyarray(test[['Area','Room','Parking','Warehouse','Elevator','MeanPriceA']])\n",
    "y_test=np.asanyarray(test['Price'])"
   ]
  },
  {
   "cell_type": "code",
   "execution_count": 13,
   "id": "de3f1191",
   "metadata": {},
   "outputs": [
    {
     "name": "stdout",
     "output_type": "stream",
     "text": [
      "Train Scores: [0.92087818 0.92054786 0.91855236 0.9208255  0.91686692 0.92013078\n",
      " 0.91862874 0.92493638 0.92049216 0.92052346 0.92201424 0.92211478\n",
      " 0.92465767 0.91928773 0.91899141 0.91844135 0.91838709 0.92018494\n",
      " 0.91891736 0.91708184 0.92097508 0.92117285 0.92014041 0.91977981\n",
      " 0.91942531 0.92067704 0.91926689 0.92053659 0.92228082 0.91841023]\n",
      "Mean Train Score: 0.9201708596817159\n",
      "Test Scores: [0.88146601 0.88699821 0.89752417 0.88403161 0.92315286 0.89233256\n",
      " 0.91746858 0.85068265 0.89942056 0.88689304 0.87453164 0.86517192\n",
      " 0.83932907 0.90122563 0.90701145 0.89877363 0.90909521 0.88511096\n",
      " 0.89796111 0.91441783 0.87876805 0.87789649 0.8967222  0.90109861\n",
      " 0.8992469  0.88489103 0.90525276 0.89615644 0.85405225 0.90192019]\n",
      "Mean Test Score: 0.8902867876286866\n"
     ]
    }
   ],
   "source": [
    "from sklearn.ensemble import GradientBoostingRegressor\n",
    "\n",
    "##If I Increase learning rate Mean=>Decrease\n",
    "#for n_estimators 150 is the Best Mean And Standard deviation\n",
    "model=GradientBoostingRegressor(n_estimators=150,max_depth=3,learning_rate=0.1)\n",
    "\n",
    "cv=RepeatedKFold(n_splits=10,n_repeats=3,random_state=1)\n",
    "\n",
    "CrossVal=cross_validate(model,x_Data,y_Data,cv=cv,scoring='r2',return_train_score=True)\n",
    "\n",
    "print(\"Train Scores:\", CrossVal['train_score'])\n",
    "print(\"Mean Train Score:\", CrossVal['train_score'].mean())\n",
    "\n",
    "print(\"Test Scores:\", CrossVal['test_score'])\n",
    "print(\"Mean Test Score:\", CrossVal['test_score'].mean())\n"
   ]
  },
  {
   "cell_type": "code",
   "execution_count": 14,
   "id": "00952706",
   "metadata": {},
   "outputs": [
    {
     "name": "stdout",
     "output_type": "stream",
     "text": [
      "Test R2 Score: 0.89\n",
      "Train R2 Score: 0.91\n"
     ]
    }
   ],
   "source": [
    "modelFit=GradientBoostingRegressor(n_estimators=100,max_depth=3,learning_rate=0.1)\n",
    "\n",
    "\n",
    "modelFit.fit(x_train,y_train)\n",
    "\n",
    "y_predict=modelFit.predict(x_test)\n",
    "y_train_predict=modelFit.predict(x_train)\n",
    "\n",
    "from sklearn.metrics import r2_score\n",
    "print(f\"Test R2 Score: {r2_score(y_test, y_predict):.2f}\")\n",
    "print(f\"Train R2 Score: {r2_score(y_train, y_train_predict):.2f}\")"
   ]
  },
  {
   "cell_type": "code",
   "execution_count": 15,
   "id": "03b00251",
   "metadata": {},
   "outputs": [
    {
     "data": {
      "image/png": "[encoded data removed]",
      "text/plain": [
       "<Figure size 640x480 with 1 Axes>"
      ]
     },
     "metadata": {},
     "output_type": "display_data"
    }
   ],
   "source": [
    "residuals = y_test - y_predict\n",
    "plt.scatter(y_predict, residuals)\n",
    "plt.axhline(y=0, color='r', linestyle='--')\n",
    "plt.xlabel(\"Predicted\")\n",
    "plt.ylabel(\"Residual\")\n",
    "plt.show()"
   ]
  },
  {
   "cell_type": "code",
   "execution_count": 16,
   "id": "ea3bf223",
   "metadata": {},
   "outputs": [
    {
     "name": "stdout",
     "output_type": "stream",
     "text": [
      "MAE: 575572515.8867165\n"
     ]
    }
   ],
   "source": [
    "from sklearn.metrics import mean_absolute_error\n",
    "\n",
    "print(\"MAE:\", mean_absolute_error(y_test, y_predict))"
   ]
  },
  {
   "cell_type": "code",
   "execution_count": null,
   "id": "d4ff0eff",
   "metadata": {},
   "outputs": [],
   "source": []
  }
 ],
 "metadata": {
  "kernelspec": {
   "display_name": "base",
   "language": "python",
   "name": "python3"
  },
  "language_info": {
   "codemirror_mode": {
    "name": "ipython",
    "version": 3
   },
   "file_extension": ".py",
   "mimetype": "text/x-python",
   "name": "python",
   "nbconvert_exporter": "python",
   "pygments_lexer": "ipython3",
   "version": "3.12.7"
  }
 },
 "nbformat": 4,
 "nbformat_minor": 5
}
